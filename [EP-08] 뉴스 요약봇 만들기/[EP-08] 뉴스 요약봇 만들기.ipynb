{
 "cells": [
  {
   "cell_type": "code",
   "execution_count": 1,
   "id": "e994a089",
   "metadata": {},
   "outputs": [
    {
     "name": "stderr",
     "output_type": "stream",
     "text": [
      "[nltk_data] Downloading package stopwords to /aiffel/nltk_data...\n",
      "[nltk_data]   Unzipping corpora/stopwords.zip.\n"
     ]
    }
   ],
   "source": [
    "import nltk\n",
    "nltk.download('stopwords')\n",
    "\n",
    "import matplotlib.pyplot as plt\n",
    "import numpy as np\n",
    "import pandas as pd\n",
    "import os\n",
    "import re\n",
    "import matplotlib.pyplot as plt\n",
    "from nltk.corpus import stopwords\n",
    "from bs4 import BeautifulSoup \n",
    "from tensorflow.keras.preprocessing.text import Tokenizer \n",
    "from tensorflow.keras.preprocessing.sequence import pad_sequences\n",
    "import urllib.request\n",
    "import warnings\n",
    "warnings.filterwarnings(\"ignore\", category=UserWarning, module='bs4')\n",
    "\n",
    "from tensorflow.keras.layers import Input, LSTM, Embedding, Dense, Concatenate, TimeDistributed\n",
    "from tensorflow.keras.models import Model\n",
    "from tensorflow.keras.callbacks import EarlyStopping, ModelCheckpoint\n",
    "from tensorflow.keras.layers import AdditiveAttention\n",
    "\n",
    "import requests\n",
    "from summa.summarizer import summarize"
   ]
  },
  {
   "cell_type": "code",
   "execution_count": 2,
   "id": "e0be7123",
   "metadata": {},
   "outputs": [
    {
     "name": "stdout",
     "output_type": "stream",
     "text": [
      "전체 샘플수 : 98401\n"
     ]
    }
   ],
   "source": [
    "data = pd.read_csv(os.getenv(\"HOME\")+\"/aiffel/news/data/news_summary_more.csv\")\n",
    "print('전체 샘플수 :', (len(data)))"
   ]
  },
  {
   "cell_type": "code",
   "execution_count": 3,
   "id": "7bab2159",
   "metadata": {},
   "outputs": [
    {
     "data": {
      "text/html": [
       "<div>\n",
       "<style scoped>\n",
       "    .dataframe tbody tr th:only-of-type {\n",
       "        vertical-align: middle;\n",
       "    }\n",
       "\n",
       "    .dataframe tbody tr th {\n",
       "        vertical-align: top;\n",
       "    }\n",
       "\n",
       "    .dataframe thead th {\n",
       "        text-align: right;\n",
       "    }\n",
       "</style>\n",
       "<table border=\"1\" class=\"dataframe\">\n",
       "  <thead>\n",
       "    <tr style=\"text-align: right;\">\n",
       "      <th></th>\n",
       "      <th>headlines</th>\n",
       "      <th>text</th>\n",
       "    </tr>\n",
       "  </thead>\n",
       "  <tbody>\n",
       "    <tr>\n",
       "      <th>0</th>\n",
       "      <td>upGrad learner switches to career in ML &amp; Al w...</td>\n",
       "      <td>Saurav Kant, an alumnus of upGrad and IIIT-B's...</td>\n",
       "    </tr>\n",
       "    <tr>\n",
       "      <th>1</th>\n",
       "      <td>Delhi techie wins free food from Swiggy for on...</td>\n",
       "      <td>Kunal Shah's credit card bill payment platform...</td>\n",
       "    </tr>\n",
       "    <tr>\n",
       "      <th>2</th>\n",
       "      <td>New Zealand end Rohit Sharma-led India's 12-ma...</td>\n",
       "      <td>New Zealand defeated India by 8 wickets in the...</td>\n",
       "    </tr>\n",
       "    <tr>\n",
       "      <th>3</th>\n",
       "      <td>Aegon life iTerm insurance plan helps customer...</td>\n",
       "      <td>With Aegon Life iTerm Insurance plan, customer...</td>\n",
       "    </tr>\n",
       "    <tr>\n",
       "      <th>4</th>\n",
       "      <td>Have known Hirani for yrs, what if MeToo claim...</td>\n",
       "      <td>Speaking about the sexual harassment allegatio...</td>\n",
       "    </tr>\n",
       "  </tbody>\n",
       "</table>\n",
       "</div>"
      ],
      "text/plain": [
       "                                           headlines  \\\n",
       "0  upGrad learner switches to career in ML & Al w...   \n",
       "1  Delhi techie wins free food from Swiggy for on...   \n",
       "2  New Zealand end Rohit Sharma-led India's 12-ma...   \n",
       "3  Aegon life iTerm insurance plan helps customer...   \n",
       "4  Have known Hirani for yrs, what if MeToo claim...   \n",
       "\n",
       "                                                text  \n",
       "0  Saurav Kant, an alumnus of upGrad and IIIT-B's...  \n",
       "1  Kunal Shah's credit card bill payment platform...  \n",
       "2  New Zealand defeated India by 8 wickets in the...  \n",
       "3  With Aegon Life iTerm Insurance plan, customer...  \n",
       "4  Speaking about the sexual harassment allegatio...  "
      ]
     },
     "execution_count": 3,
     "metadata": {},
     "output_type": "execute_result"
    }
   ],
   "source": [
    "data.head()"
   ]
  },
  {
   "cell_type": "code",
   "execution_count": 4,
   "id": "773f7a85",
   "metadata": {},
   "outputs": [
    {
     "data": {
      "text/html": [
       "<div>\n",
       "<style scoped>\n",
       "    .dataframe tbody tr th:only-of-type {\n",
       "        vertical-align: middle;\n",
       "    }\n",
       "\n",
       "    .dataframe tbody tr th {\n",
       "        vertical-align: top;\n",
       "    }\n",
       "\n",
       "    .dataframe thead th {\n",
       "        text-align: right;\n",
       "    }\n",
       "</style>\n",
       "<table border=\"1\" class=\"dataframe\">\n",
       "  <thead>\n",
       "    <tr style=\"text-align: right;\">\n",
       "      <th></th>\n",
       "      <th>text</th>\n",
       "      <th>headlines</th>\n",
       "    </tr>\n",
       "  </thead>\n",
       "  <tbody>\n",
       "    <tr>\n",
       "      <th>46560</th>\n",
       "      <td>The ruling Communist Party of China is distrib...</td>\n",
       "      <td>China gives 3L TVs in rural areas to spread Pr...</td>\n",
       "    </tr>\n",
       "    <tr>\n",
       "      <th>21391</th>\n",
       "      <td>A divorced woman has won Â£13,100 (over â¹11 ...</td>\n",
       "      <td>Dating firm pays â¹11 lakh to woman over shor...</td>\n",
       "    </tr>\n",
       "    <tr>\n",
       "      <th>62187</th>\n",
       "      <td>A 55-year-old man on Monday attempted to kill ...</td>\n",
       "      <td>Man attempts suicide in front of Karnataka CM ...</td>\n",
       "    </tr>\n",
       "    <tr>\n",
       "      <th>56216</th>\n",
       "      <td>Japanese conglomerate SoftBank is in talks to ...</td>\n",
       "      <td>SoftBank may invest $300 mn in dog-sitting app...</td>\n",
       "    </tr>\n",
       "    <tr>\n",
       "      <th>68668</th>\n",
       "      <td>Director of the 'Baahubali' franchise SS Rajam...</td>\n",
       "      <td>Mahabharata's Karna's story made me cry: Baahu...</td>\n",
       "    </tr>\n",
       "  </tbody>\n",
       "</table>\n",
       "</div>"
      ],
      "text/plain": [
       "                                                    text  \\\n",
       "46560  The ruling Communist Party of China is distrib...   \n",
       "21391  A divorced woman has won Â£13,100 (over â¹11 ...   \n",
       "62187  A 55-year-old man on Monday attempted to kill ...   \n",
       "56216  Japanese conglomerate SoftBank is in talks to ...   \n",
       "68668  Director of the 'Baahubali' franchise SS Rajam...   \n",
       "\n",
       "                                               headlines  \n",
       "46560  China gives 3L TVs in rural areas to spread Pr...  \n",
       "21391  Dating firm pays â¹11 lakh to woman over shor...  \n",
       "62187  Man attempts suicide in front of Karnataka CM ...  \n",
       "56216  SoftBank may invest $300 mn in dog-sitting app...  \n",
       "68668  Mahabharata's Karna's story made me cry: Baahu...  "
      ]
     },
     "execution_count": 4,
     "metadata": {},
     "output_type": "execute_result"
    }
   ],
   "source": [
    "data = data[['text','headlines']]\n",
    "data.head()\n",
    "\n",
    "#랜덤한 5개 샘플 출력\n",
    "data.sample(5)"
   ]
  },
  {
   "cell_type": "markdown",
   "id": "3e7a330b",
   "metadata": {},
   "source": [
    "# 데이터전처리"
   ]
  },
  {
   "cell_type": "code",
   "execution_count": 5,
   "id": "504d9437",
   "metadata": {},
   "outputs": [
    {
     "name": "stdout",
     "output_type": "stream",
     "text": [
      "text 열에서 중복을 배제한 유일한 샘플의 수 : 98360\n",
      "headlines 열에서 중복을 배제한 유일한 샘플의 수 : 98280\n"
     ]
    }
   ],
   "source": [
    "# 중복샘플제거하기\n",
    "\n",
    "print('text 열에서 중복을 배제한 유일한 샘플의 수 :', data['text'].nunique())\n",
    "print('headlines 열에서 중복을 배제한 유일한 샘플의 수 :', data['headlines'].nunique())"
   ]
  },
  {
   "cell_type": "code",
   "execution_count": 6,
   "id": "1874c628",
   "metadata": {},
   "outputs": [
    {
     "name": "stdout",
     "output_type": "stream",
     "text": [
      "text : 98360\n",
      "headlines : 98262\n"
     ]
    }
   ],
   "source": [
    "# 중복데이터 98개 삭제\n",
    "\n",
    "# inplace=True 를 설정하면 DataFrame 타입 값을 return 하지 않고 data 내부를 직접적으로 바꿉니다\n",
    "data.drop_duplicates(subset = ['text'], inplace=True)\n",
    "print('text :', (len(data)))\n",
    "\n",
    "data.drop_duplicates(subset = ['headlines'], inplace=True)\n",
    "print('headlines :', (len(data)))"
   ]
  },
  {
   "cell_type": "code",
   "execution_count": 7,
   "id": "97220f73",
   "metadata": {},
   "outputs": [],
   "source": [
    "# isnull로 null값 확인후 제거 -> null 없음\n",
    "# print(data.isnull().sum())\n",
    "\n",
    "# # null 제거\n",
    "# data.dropna(axis=0, inplace=True)\n",
    "# print('전체 샘플수 :', (len(data)))"
   ]
  },
  {
   "cell_type": "markdown",
   "id": "eedfc2b9",
   "metadata": {},
   "source": [
    "## text normalization"
   ]
  },
  {
   "cell_type": "code",
   "execution_count": 8,
   "id": "311abe25",
   "metadata": {},
   "outputs": [
    {
     "name": "stdout",
     "output_type": "stream",
     "text": [
      "정규화 사전의 수:  120\n"
     ]
    }
   ],
   "source": [
    "# \"aren't\", \"are not\"나 \"does not\"  \"don't\" 와 같이 같은의미의 표현을 통일시켜줌으로써 연산량을 줄여줌\n",
    "\n",
    "contractions = {\"ain't\": \"is not\", \"aren't\": \"are not\",\"can't\": \"cannot\", \"'cause\": \"because\", \"could've\": \"could have\", \"couldn't\": \"could not\",\n",
    "                           \"didn't\": \"did not\",  \"doesn't\": \"does not\", \"don't\": \"do not\", \"hadn't\": \"had not\", \"hasn't\": \"has not\", \"haven't\": \"have not\",\n",
    "                           \"he'd\": \"he would\",\"he'll\": \"he will\", \"he's\": \"he is\", \"how'd\": \"how did\", \"how'd'y\": \"how do you\", \"how'll\": \"how will\", \"how's\": \"how is\",\n",
    "                           \"I'd\": \"I would\", \"I'd've\": \"I would have\", \"I'll\": \"I will\", \"I'll've\": \"I will have\",\"I'm\": \"I am\", \"I've\": \"I have\", \"i'd\": \"i would\",\n",
    "                           \"i'd've\": \"i would have\", \"i'll\": \"i will\",  \"i'll've\": \"i will have\",\"i'm\": \"i am\", \"i've\": \"i have\", \"isn't\": \"is not\", \"it'd\": \"it would\",\n",
    "                           \"it'd've\": \"it would have\", \"it'll\": \"it will\", \"it'll've\": \"it will have\",\"it's\": \"it is\", \"let's\": \"let us\", \"ma'am\": \"madam\",\n",
    "                           \"mayn't\": \"may not\", \"might've\": \"might have\",\"mightn't\": \"might not\",\"mightn't've\": \"might not have\", \"must've\": \"must have\",\n",
    "                           \"mustn't\": \"must not\", \"mustn't've\": \"must not have\", \"needn't\": \"need not\", \"needn't've\": \"need not have\",\"o'clock\": \"of the clock\",\n",
    "                           \"oughtn't\": \"ought not\", \"oughtn't've\": \"ought not have\", \"shan't\": \"shall not\", \"sha'n't\": \"shall not\", \"shan't've\": \"shall not have\",\n",
    "                           \"she'd\": \"she would\", \"she'd've\": \"she would have\", \"she'll\": \"she will\", \"she'll've\": \"she will have\", \"she's\": \"she is\",\n",
    "                           \"should've\": \"should have\", \"shouldn't\": \"should not\", \"shouldn't've\": \"should not have\", \"so've\": \"so have\",\"so's\": \"so as\",\n",
    "                           \"this's\": \"this is\",\"that'd\": \"that would\", \"that'd've\": \"that would have\", \"that's\": \"that is\", \"there'd\": \"there would\",\n",
    "                           \"there'd've\": \"there would have\", \"there's\": \"there is\", \"here's\": \"here is\",\"they'd\": \"they would\", \"they'd've\": \"they would have\",\n",
    "                           \"they'll\": \"they will\", \"they'll've\": \"they will have\", \"they're\": \"they are\", \"they've\": \"they have\", \"to've\": \"to have\",\n",
    "                           \"wasn't\": \"was not\", \"we'd\": \"we would\", \"we'd've\": \"we would have\", \"we'll\": \"we will\", \"we'll've\": \"we will have\", \"we're\": \"we are\",\n",
    "                           \"we've\": \"we have\", \"weren't\": \"were not\", \"what'll\": \"what will\", \"what'll've\": \"what will have\", \"what're\": \"what are\",\n",
    "                           \"what's\": \"what is\", \"what've\": \"what have\", \"when's\": \"when is\", \"when've\": \"when have\", \"where'd\": \"where did\", \"where's\": \"where is\",\n",
    "                           \"where've\": \"where have\", \"who'll\": \"who will\", \"who'll've\": \"who will have\", \"who's\": \"who is\", \"who've\": \"who have\",\n",
    "                           \"why's\": \"why is\", \"why've\": \"why have\", \"will've\": \"will have\", \"won't\": \"will not\", \"won't've\": \"will not have\",\n",
    "                           \"would've\": \"would have\", \"wouldn't\": \"would not\", \"wouldn't've\": \"would not have\", \"y'all\": \"you all\",\n",
    "                           \"y'all'd\": \"you all would\",\"y'all'd've\": \"you all would have\",\"y'all're\": \"you all are\",\"y'all've\": \"you all have\",\n",
    "                           \"you'd\": \"you would\", \"you'd've\": \"you would have\", \"you'll\": \"you will\", \"you'll've\": \"you will have\",\n",
    "                           \"you're\": \"you are\", \"you've\": \"you have\"}\n",
    "\n",
    "print(\"정규화 사전의 수: \", len(contractions))"
   ]
  },
  {
   "cell_type": "code",
   "execution_count": 9,
   "id": "ba619677",
   "metadata": {},
   "outputs": [
    {
     "name": "stdout",
     "output_type": "stream",
     "text": [
      "불용어 개수 : 179\n",
      "['i', 'me', 'my', 'myself', 'we', 'our', 'ours', 'ourselves', 'you', \"you're\", \"you've\", \"you'll\", \"you'd\", 'your', 'yours', 'yourself', 'yourselves', 'he', 'him', 'his', 'himself', 'she', \"she's\", 'her', 'hers', 'herself', 'it', \"it's\", 'its', 'itself', 'they', 'them', 'their', 'theirs', 'themselves', 'what', 'which', 'who', 'whom', 'this', 'that', \"that'll\", 'these', 'those', 'am', 'is', 'are', 'was', 'were', 'be', 'been', 'being', 'have', 'has', 'had', 'having', 'do', 'does', 'did', 'doing', 'a', 'an', 'the', 'and', 'but', 'if', 'or', 'because', 'as', 'until', 'while', 'of', 'at', 'by', 'for', 'with', 'about', 'against', 'between', 'into', 'through', 'during', 'before', 'after', 'above', 'below', 'to', 'from', 'up', 'down', 'in', 'out', 'on', 'off', 'over', 'under', 'again', 'further', 'then', 'once', 'here', 'there', 'when', 'where', 'why', 'how', 'all', 'any', 'both', 'each', 'few', 'more', 'most', 'other', 'some', 'such', 'no', 'nor', 'not', 'only', 'own', 'same', 'so', 'than', 'too', 'very', 's', 't', 'can', 'will', 'just', 'don', \"don't\", 'should', \"should've\", 'now', 'd', 'll', 'm', 'o', 're', 've', 'y', 'ain', 'aren', \"aren't\", 'couldn', \"couldn't\", 'didn', \"didn't\", 'doesn', \"doesn't\", 'hadn', \"hadn't\", 'hasn', \"hasn't\", 'haven', \"haven't\", 'isn', \"isn't\", 'ma', 'mightn', \"mightn't\", 'mustn', \"mustn't\", 'needn', \"needn't\", 'shan', \"shan't\", 'shouldn', \"shouldn't\", 'wasn', \"wasn't\", 'weren', \"weren't\", 'won', \"won't\", 'wouldn', \"wouldn't\"]\n"
     ]
    }
   ],
   "source": [
    "# 불필요한 불용어 제거\n",
    "\n",
    "print('불용어 개수 :', len(stopwords.words('english') ))\n",
    "print(stopwords.words('english'))\n",
    "\n",
    "# 데이터 전처리 함수\n",
    "def preprocess_sentence(sentence, remove_stopwords=True):\n",
    "    sentence = sentence.lower() # 텍스트 소문자화\n",
    "    sentence = BeautifulSoup(sentence, \"lxml\").text # <br />, <a href = ...> 등의 html 태그 제거\n",
    "    sentence = re.sub(r'\\([^)]*\\)', '', sentence) # 괄호로 닫힌 문자열 (...) 제거 Ex) my husband (and myself!) for => my husband for\n",
    "    sentence = re.sub('\"','', sentence) # 쌍따옴표 \" 제거\n",
    "    sentence = ' '.join([contractions[t] if t in contractions else t for t in sentence.split(\" \")]) # 약어 정규화\n",
    "    sentence = re.sub(r\"'s\\b\",\"\", sentence) # 소유격 제거. Ex) roland's -> roland\n",
    "    sentence = re.sub(\"[^a-zA-Z]\", \" \", sentence) # 영어 외 문자(숫자, 특수문자 등) 공백으로 변환\n",
    "    sentence = re.sub('[m]{2,}', 'mm', sentence) # m이 3개 이상이면 2개로 변경. Ex) ummmmmmm yeah -> umm yeah\n",
    "    \n",
    "    # 불용어 제거 (Text)\n",
    "    if remove_stopwords:\n",
    "        tokens = ' '.join(word for word in sentence.split() if not word in stopwords.words('english') if len(word) > 1)\n",
    "    # 불용어 미제거 (Summary)\n",
    "    else:\n",
    "        tokens = ' '.join(word for word in sentence.split() if len(word) > 1)\n",
    "    return tokens"
   ]
  },
  {
   "cell_type": "code",
   "execution_count": 10,
   "id": "154fdcd6",
   "metadata": {},
   "outputs": [
    {
     "name": "stdout",
     "output_type": "stream",
     "text": [
      "text:  everything bought great infact ordered twice third ordered wasfor mother father\n",
      "headlines: great way to start the day\n"
     ]
    }
   ],
   "source": [
    "# 전처리 전후 비교\n",
    "\n",
    "temp_text = 'Everything I bought was great, infact I ordered twice and the third ordered was<br />for my mother and father.'\n",
    "temp_summary = 'Great way to start (or finish) the day!!!'\n",
    "\n",
    "print(\"text: \", preprocess_sentence(temp_text))\n",
    "print(\"headlines:\", preprocess_sentence(temp_summary, False))  # 불용어를 제거하지 않습니다."
   ]
  },
  {
   "cell_type": "code",
   "execution_count": 11,
   "id": "b532e871",
   "metadata": {},
   "outputs": [
    {
     "name": "stdout",
     "output_type": "stream",
     "text": [
      "Text 전처리 후 결과:  ['saurav kant alumnus upgrad iiit pg program machine learning artificial intelligence sr systems engineer infosys almost years work experience program upgrad degree career support helped transition data scientist tech mahindra salary hike upgrad online power learning powered lakh careers', 'kunal shah credit card bill payment platform cred gave users chance win free food swiggy one year pranav kaushik delhi techie bagged reward spending cred coins users get one cred coin per rupee bill paid used avail rewards brands like ixigo bookmyshow ubereats cult fit', 'new zealand defeated india wickets fourth odi hamilton thursday win first match five match odi series india lost international match rohit sharma captaincy consecutive victories dating back march match witnessed india getting seventh lowest total odi cricket history', 'aegon life iterm insurance plan customers enjoy tax benefits premiums paid save taxes plan provides life cover age years also customers options insure critical illnesses disability accidental death benefit rider life cover age years', 'speaking sexual harassment allegations rajkumar hirani sonam kapoor said known hirani many years true metoo movement get derailed metoo movement always believe woman case need reserve judgment added hirani accused assistant worked sanju']\n"
     ]
    }
   ],
   "source": [
    "clean_text = []\n",
    "# 전체 Text 데이터에 대한 전처리 : 10분 이상 시간이 걸릴 수 있습니다. \n",
    "for s in data['text']:\n",
    "    clean_text.append(preprocess_sentence(s))\n",
    "\n",
    "# 전처리 후 출력\n",
    "print(\"Text 전처리 후 결과: \", clean_text[:5])"
   ]
  },
  {
   "cell_type": "code",
   "execution_count": 12,
   "id": "2c670ecc",
   "metadata": {},
   "outputs": [
    {
     "name": "stdout",
     "output_type": "stream",
     "text": [
      "headlines 전처리 후 결과:  ['upgrad learner switches to career in ml al with salary hike', 'delhi techie wins free food from swiggy for one year on cred', 'new zealand end rohit sharma led india match winning streak', 'aegon life iterm insurance plan helps customers save tax', 'have known hirani for yrs what if metoo claims are not true sonam']\n"
     ]
    }
   ],
   "source": [
    "clean_headlines = []\n",
    "# 전체 headlines 데이터에 대한 전처리 : 5분 이상 시간이 걸릴 수 있습니다. \n",
    "for s in data['headlines']:\n",
    "    clean_headlines.append(preprocess_sentence(s, False))\n",
    "\n",
    "print(\"headlines 전처리 후 결과: \", clean_headlines[:5])"
   ]
  },
  {
   "cell_type": "code",
   "execution_count": 13,
   "id": "0a61faa4",
   "metadata": {},
   "outputs": [],
   "source": [
    "data['text'] = clean_text\n",
    "data['headlines'] = clean_headlines\n",
    "\n",
    "# 빈 값을 Null 값으로 변환\n",
    "data.replace('', np.nan, inplace=True)"
   ]
  },
  {
   "cell_type": "code",
   "execution_count": 14,
   "id": "deb0cb51",
   "metadata": {},
   "outputs": [
    {
     "name": "stdout",
     "output_type": "stream",
     "text": [
      "전체 샘플수 : 98262\n"
     ]
    }
   ],
   "source": [
    "# null값 여부 확인 -> null없음\n",
    "# data.dropna(axis=0, inplace=True)\n",
    "print('전체 샘플수 :', (len(data)))"
   ]
  },
  {
   "cell_type": "code",
   "execution_count": 15,
   "id": "0ff1ec59",
   "metadata": {},
   "outputs": [
    {
     "name": "stdout",
     "output_type": "stream",
     "text": [
      "텍스트의 최소 길이 : 1\n",
      "텍스트의 최대 길이 : 60\n",
      "텍스트의 평균 길이 : 35.10029309397326\n",
      "헤드라인의 최소 길이 : 1\n",
      "헤드라인 최대 길이 : 16\n",
      "헤드라인 평균 길이 : 9.299444342675704\n"
     ]
    },
    {
     "data": {
      "image/png": "[encoded data removed]",
      "text/plain": [
       "<Figure size 432x288 with 2 Axes>"
      ]
     },
     "metadata": {
      "needs_background": "light"
     },
     "output_type": "display_data"
    },
    {
     "data": {
      "image/png": "[encoded data removed]",
      "text/plain": [
       "<Figure size 432x288 with 1 Axes>"
      ]
     },
     "metadata": {
      "needs_background": "light"
     },
     "output_type": "display_data"
    },
    {
     "data": {
      "image/png": "[encoded data removed]",
      "text/plain": [
       "<Figure size 432x288 with 1 Axes>"
      ]
     },
     "metadata": {
      "needs_background": "light"
     },
     "output_type": "display_data"
    }
   ],
   "source": [
    "# 훈련에사용할 샘플의 최대길이지정\n",
    "\n",
    "text_len = [len(s.split()) for s in data['text']]\n",
    "summary_len = [len(s.split()) for s in data['headlines']]\n",
    "\n",
    "print('텍스트의 최소 길이 : {}'.format(np.min(text_len)))\n",
    "print('텍스트의 최대 길이 : {}'.format(np.max(text_len)))\n",
    "print('텍스트의 평균 길이 : {}'.format(np.mean(text_len)))\n",
    "print('헤드라인의 최소 길이 : {}'.format(np.min(summary_len)))\n",
    "print('헤드라인 최대 길이 : {}'.format(np.max(summary_len)))\n",
    "print('헤드라인 평균 길이 : {}'.format(np.mean(summary_len)))\n",
    "\n",
    "plt.subplot(1,2,1)\n",
    "plt.boxplot(text_len)\n",
    "plt.title('text')\n",
    "plt.subplot(1,2,2)\n",
    "plt.boxplot(summary_len)\n",
    "plt.title('headlines')\n",
    "plt.tight_layout()\n",
    "plt.show()\n",
    "\n",
    "plt.title('text')\n",
    "plt.hist(text_len, bins = 40)\n",
    "plt.xlabel('length of samples')\n",
    "plt.ylabel('number of samples')\n",
    "plt.show()\n",
    "\n",
    "plt.title('headlines')\n",
    "plt.hist(summary_len, bins = 40)\n",
    "plt.xlabel('length of samples')\n",
    "plt.ylabel('number of samples')\n",
    "plt.show()"
   ]
  },
  {
   "cell_type": "code",
   "execution_count": 16,
   "id": "47274228",
   "metadata": {},
   "outputs": [],
   "source": [
    "# text와 headlines의 최대길이지정\n",
    "\n",
    "text_max_len = 40\n",
    "head_max_len = 14"
   ]
  },
  {
   "cell_type": "code",
   "execution_count": 17,
   "id": "a28ac28b",
   "metadata": {},
   "outputs": [],
   "source": [
    "# 정해준 길이가 몇%에 해당하는지 확인\n",
    "\n",
    "def below_threshold_len(max_len, nested_list):\n",
    "  cnt = 0\n",
    "  for s in nested_list:\n",
    "    if(len(s.split()) <= max_len):\n",
    "        cnt = cnt + 1\n",
    "  print('전체 샘플 중 길이가 %s 이하인 샘플의 비율: %s'%(max_len, (cnt / len(nested_list))))"
   ]
  },
  {
   "cell_type": "code",
   "execution_count": 18,
   "id": "2f71a260",
   "metadata": {},
   "outputs": [
    {
     "name": "stdout",
     "output_type": "stream",
     "text": [
      "전체 샘플 중 길이가 40 이하인 샘플의 비율: 0.92383627444994\n",
      "전체 샘플 중 길이가 14 이하인 샘플의 비율: 0.9997761087704301\n",
      "전체 샘플수 : 90758\n"
     ]
    }
   ],
   "source": [
    "below_threshold_len(text_max_len, data['text'])\n",
    "below_threshold_len(head_max_len,  data['headlines'])\n",
    "\n",
    "\n",
    "# 정해진 길이보다 길면 제외\n",
    "data = data[data['text'].apply(lambda x: len(x.split()) <= text_max_len)]\n",
    "data = data[data['headlines'].apply(lambda x: len(x.split()) <= head_max_len)]\n",
    "print('전체 샘플수 :', (len(data)))"
   ]
  },
  {
   "cell_type": "code",
   "execution_count": 19,
   "id": "4da2d225",
   "metadata": {},
   "outputs": [
    {
     "data": {
      "text/html": [
       "<div>\n",
       "<style scoped>\n",
       "    .dataframe tbody tr th:only-of-type {\n",
       "        vertical-align: middle;\n",
       "    }\n",
       "\n",
       "    .dataframe tbody tr th {\n",
       "        vertical-align: top;\n",
       "    }\n",
       "\n",
       "    .dataframe thead th {\n",
       "        text-align: right;\n",
       "    }\n",
       "</style>\n",
       "<table border=\"1\" class=\"dataframe\">\n",
       "  <thead>\n",
       "    <tr style=\"text-align: right;\">\n",
       "      <th></th>\n",
       "      <th>text</th>\n",
       "      <th>headlines</th>\n",
       "      <th>decoder_input</th>\n",
       "      <th>decoder_target</th>\n",
       "    </tr>\n",
       "  </thead>\n",
       "  <tbody>\n",
       "    <tr>\n",
       "      <th>0</th>\n",
       "      <td>saurav kant alumnus upgrad iiit pg program mac...</td>\n",
       "      <td>upgrad learner switches to career in ml al wit...</td>\n",
       "      <td>sostoken upgrad learner switches to career in ...</td>\n",
       "      <td>upgrad learner switches to career in ml al wit...</td>\n",
       "    </tr>\n",
       "    <tr>\n",
       "      <th>2</th>\n",
       "      <td>new zealand defeated india wickets fourth odi ...</td>\n",
       "      <td>new zealand end rohit sharma led india match w...</td>\n",
       "      <td>sostoken new zealand end rohit sharma led indi...</td>\n",
       "      <td>new zealand end rohit sharma led india match w...</td>\n",
       "    </tr>\n",
       "    <tr>\n",
       "      <th>3</th>\n",
       "      <td>aegon life iterm insurance plan customers enjo...</td>\n",
       "      <td>aegon life iterm insurance plan helps customer...</td>\n",
       "      <td>sostoken aegon life iterm insurance plan helps...</td>\n",
       "      <td>aegon life iterm insurance plan helps customer...</td>\n",
       "    </tr>\n",
       "    <tr>\n",
       "      <th>4</th>\n",
       "      <td>speaking sexual harassment allegations rajkuma...</td>\n",
       "      <td>have known hirani for yrs what if metoo claims...</td>\n",
       "      <td>sostoken have known hirani for yrs what if met...</td>\n",
       "      <td>have known hirani for yrs what if metoo claims...</td>\n",
       "    </tr>\n",
       "    <tr>\n",
       "      <th>5</th>\n",
       "      <td>pakistani singer rahat fateh ali khan denied r...</td>\n",
       "      <td>rahat fateh ali khan denies getting notice for...</td>\n",
       "      <td>sostoken rahat fateh ali khan denies getting n...</td>\n",
       "      <td>rahat fateh ali khan denies getting notice for...</td>\n",
       "    </tr>\n",
       "  </tbody>\n",
       "</table>\n",
       "</div>"
      ],
      "text/plain": [
       "                                                text  \\\n",
       "0  saurav kant alumnus upgrad iiit pg program mac...   \n",
       "2  new zealand defeated india wickets fourth odi ...   \n",
       "3  aegon life iterm insurance plan customers enjo...   \n",
       "4  speaking sexual harassment allegations rajkuma...   \n",
       "5  pakistani singer rahat fateh ali khan denied r...   \n",
       "\n",
       "                                           headlines  \\\n",
       "0  upgrad learner switches to career in ml al wit...   \n",
       "2  new zealand end rohit sharma led india match w...   \n",
       "3  aegon life iterm insurance plan helps customer...   \n",
       "4  have known hirani for yrs what if metoo claims...   \n",
       "5  rahat fateh ali khan denies getting notice for...   \n",
       "\n",
       "                                       decoder_input  \\\n",
       "0  sostoken upgrad learner switches to career in ...   \n",
       "2  sostoken new zealand end rohit sharma led indi...   \n",
       "3  sostoken aegon life iterm insurance plan helps...   \n",
       "4  sostoken have known hirani for yrs what if met...   \n",
       "5  sostoken rahat fateh ali khan denies getting n...   \n",
       "\n",
       "                                      decoder_target  \n",
       "0  upgrad learner switches to career in ml al wit...  \n",
       "2  new zealand end rohit sharma led india match w...  \n",
       "3  aegon life iterm insurance plan helps customer...  \n",
       "4  have known hirani for yrs what if metoo claims...  \n",
       "5  rahat fateh ali khan denies getting notice for...  "
      ]
     },
     "execution_count": 19,
     "metadata": {},
     "output_type": "execute_result"
    }
   ],
   "source": [
    "# 요약 데이터에는 시작 토큰과 종료 토큰을 추가한다.\n",
    "data['decoder_input'] = data['headlines'].apply(lambda x : 'sostoken '+ x)\n",
    "data['decoder_target'] = data['headlines'].apply(lambda x : x + ' eostoken')\n",
    "data.head()"
   ]
  },
  {
   "cell_type": "code",
   "execution_count": 20,
   "id": "5ed73a62",
   "metadata": {},
   "outputs": [],
   "source": [
    "encoder_input = np.array(data['text']) # 인코더의 입력\n",
    "decoder_input = np.array(data['decoder_input']) # 디코더의 입력\n",
    "decoder_target = np.array(data['decoder_target']) # 디코더의 레이블"
   ]
  },
  {
   "cell_type": "markdown",
   "id": "37ce770b",
   "metadata": {},
   "source": [
    "## 훈련데이터와 테스트데이터 나누기"
   ]
  },
  {
   "cell_type": "code",
   "execution_count": 21,
   "id": "c1554830",
   "metadata": {},
   "outputs": [
    {
     "name": "stdout",
     "output_type": "stream",
     "text": [
      "[20361 57664 23937 ... 58696 65014 83250]\n"
     ]
    }
   ],
   "source": [
    "indices = np.arange(encoder_input.shape[0])\n",
    "np.random.shuffle(indices)\n",
    "print(indices)\n",
    "\n",
    "\n",
    "# 시퀀스를이용해 샘플데이터 재정의\n",
    "encoder_input = encoder_input[indices]\n",
    "decoder_input = decoder_input[indices]\n",
    "decoder_target = decoder_target[indices]"
   ]
  },
  {
   "cell_type": "code",
   "execution_count": 22,
   "id": "33e45128",
   "metadata": {},
   "outputs": [
    {
     "name": "stdout",
     "output_type": "stream",
     "text": [
      "테스트 데이터의 수 : 18151\n"
     ]
    }
   ],
   "source": [
    "# 20%의 비율로 테스트데이터 나눔\n",
    "\n",
    "n_of_val = int(len(encoder_input)*0.2)\n",
    "print('테스트 데이터의 수 :', n_of_val)"
   ]
  },
  {
   "cell_type": "code",
   "execution_count": 23,
   "id": "535e4a90",
   "metadata": {},
   "outputs": [
    {
     "name": "stdout",
     "output_type": "stream",
     "text": [
      "훈련 데이터의 개수 : 72607\n",
      "훈련 레이블의 개수 : 72607\n",
      "테스트 데이터의 개수 : 18151\n",
      "테스트 레이블의 개수 : 18151\n"
     ]
    }
   ],
   "source": [
    "encoder_input_train = encoder_input[:-n_of_val]\n",
    "decoder_input_train = decoder_input[:-n_of_val]\n",
    "decoder_target_train = decoder_target[:-n_of_val]\n",
    "\n",
    "encoder_input_test = encoder_input[-n_of_val:]\n",
    "decoder_input_test = decoder_input[-n_of_val:]\n",
    "decoder_target_test = decoder_target[-n_of_val:]\n",
    "\n",
    "print('훈련 데이터의 개수 :', len(encoder_input_train))\n",
    "print('훈련 레이블의 개수 :', len(decoder_input_train))\n",
    "print('테스트 데이터의 개수 :', len(encoder_input_test))\n",
    "print('테스트 레이블의 개수 :', len(decoder_input_test))"
   ]
  },
  {
   "cell_type": "markdown",
   "id": "c2530658",
   "metadata": {},
   "source": [
    "## 단어집합(vocabulary) 만들기"
   ]
  },
  {
   "cell_type": "code",
   "execution_count": 24,
   "id": "43c30be1",
   "metadata": {},
   "outputs": [
    {
     "name": "stdout",
     "output_type": "stream",
     "text": [
      "단어 집합(vocabulary)의 크기 : 65655\n",
      "등장 빈도가 6번 이하인 희귀 단어의 수: 44594\n",
      "단어 집합에서 희귀 단어를 제외시킬 경우의 단어 집합의 크기 21061\n",
      "단어 집합에서 희귀 단어의 비율: 67.92171197928566\n",
      "전체 등장 빈도에서 희귀 단어 등장 빈도 비율: 3.623014289135467\n"
     ]
    }
   ],
   "source": [
    "src_tokenizer = Tokenizer() # 토크나이저 정의\n",
    "src_tokenizer.fit_on_texts(encoder_input_train) # 입력된 데이터로부터 단어 집합 생성\n",
    "\n",
    "\n",
    "\n",
    "threshold = 7\n",
    "total_cnt = len(src_tokenizer.word_index) # 단어의 수\n",
    "rare_cnt = 0 # 등장 빈도수가 threshold보다 작은 단어의 개수를 카운트\n",
    "total_freq = 0 # 훈련 데이터의 전체 단어 빈도수 총 합\n",
    "rare_freq = 0 # 등장 빈도수가 threshold보다 작은 단어의 등장 빈도수의 총 합\n",
    "\n",
    "# 단어와 빈도수의 쌍(pair)을 key와 value로 받는다.\n",
    "for key, value in src_tokenizer.word_counts.items():\n",
    "    total_freq = total_freq + value\n",
    "\n",
    "    # 단어의 등장 빈도수가 threshold보다 작으면\n",
    "    if(value < threshold):\n",
    "        rare_cnt = rare_cnt + 1\n",
    "        rare_freq = rare_freq + value\n",
    "\n",
    "print('단어 집합(vocabulary)의 크기 :', total_cnt)\n",
    "print('등장 빈도가 %s번 이하인 희귀 단어의 수: %s'%(threshold - 1, rare_cnt))\n",
    "print('단어 집합에서 희귀 단어를 제외시킬 경우의 단어 집합의 크기 %s'%(total_cnt - rare_cnt))\n",
    "print(\"단어 집합에서 희귀 단어의 비율:\", (rare_cnt / total_cnt)*100)\n",
    "print(\"전체 등장 빈도에서 희귀 단어 등장 빈도 비율:\", (rare_freq / total_freq)*100)"
   ]
  },
  {
   "cell_type": "code",
   "execution_count": 25,
   "id": "9b02e5d7",
   "metadata": {},
   "outputs": [],
   "source": [
    "# 단어집합 크기제한\n",
    "\n",
    "src_vocab = 20000\n",
    "src_tokenizer = Tokenizer(num_words=src_vocab) # 단어 집합의 크기를 20000으로 제한\n",
    "src_tokenizer.fit_on_texts(encoder_input_train) # 단어 집합 재생성\n"
   ]
  },
  {
   "cell_type": "code",
   "execution_count": 26,
   "id": "95a62d5b",
   "metadata": {},
   "outputs": [],
   "source": [
    "# 텍스트 시퀀스를 정수 시퀀스로 변환\n",
    "encoder_input_train = src_tokenizer.texts_to_sequences(encoder_input_train) \n",
    "encoder_input_test = src_tokenizer.texts_to_sequences(encoder_input_test)"
   ]
  },
  {
   "cell_type": "code",
   "execution_count": 27,
   "id": "0072fc45",
   "metadata": {},
   "outputs": [
    {
     "name": "stdout",
     "output_type": "stream",
     "text": [
      "[[3, 3628, 381, 1838, 3186, 2766, 10, 27, 236, 69, 8016, 742, 3186, 1510, 834, 25, 27, 97, 4142, 1510, 834, 1984, 211, 97, 211, 1049, 2791, 508, 5636, 3697, 114, 2399], [5, 193, 629, 318, 3720, 8017, 596, 9285, 2638, 65, 2421, 781, 402, 2249, 767, 14528, 1590, 93, 27, 2421, 781, 447, 48, 3282, 331, 1, 479, 413, 2326, 12220, 7888, 781, 824, 508, 1590], [8169, 1152, 3, 4735, 3540, 2180, 30, 568, 16, 6216, 4736, 1, 2555, 2555, 301, 235, 1940, 115, 14, 11850, 8018, 1637, 1, 2842, 56, 633, 775, 5515]]\n"
     ]
    }
   ],
   "source": [
    "#잘 진행되었는지 샘플 출력\n",
    "print(encoder_input_train[:3])"
   ]
  },
  {
   "cell_type": "code",
   "execution_count": 28,
   "id": "b3b2a16b",
   "metadata": {},
   "outputs": [],
   "source": [
    "# summary data에도 똑같이적용\n",
    "tar_tokenizer = Tokenizer()\n",
    "tar_tokenizer.fit_on_texts(decoder_input_train)"
   ]
  },
  {
   "cell_type": "code",
   "execution_count": 29,
   "id": "e3c2cd53",
   "metadata": {},
   "outputs": [
    {
     "name": "stdout",
     "output_type": "stream",
     "text": [
      "단어 집합(vocabulary)의 크기 : 28887\n",
      "등장 빈도가 5번 이하인 희귀 단어의 수: 18895\n",
      "단어 집합에서 희귀 단어를 제외시킬 경우의 단어 집합의 크기 9992\n",
      "단어 집합에서 희귀 단어의 비율: 65.41004604147194\n",
      "전체 등장 빈도에서 희귀 단어 등장 빈도 비율: 4.832101875399455\n"
     ]
    }
   ],
   "source": [
    "# 단어 빈도수확인\n",
    "\n",
    "threshold = 6\n",
    "total_cnt = len(tar_tokenizer.word_index) # 단어의 수\n",
    "rare_cnt = 0 # 등장 빈도수가 threshold보다 작은 단어의 개수를 카운트\n",
    "total_freq = 0 # 훈련 데이터의 전체 단어 빈도수 총 합\n",
    "rare_freq = 0 # 등장 빈도수가 threshold보다 작은 단어의 등장 빈도수의 총 합\n",
    "\n",
    "# 단어와 빈도수의 쌍(pair)을 key와 value로 받는다.\n",
    "for key, value in tar_tokenizer.word_counts.items():\n",
    "    total_freq = total_freq + value\n",
    "\n",
    "    # 단어의 등장 빈도수가 threshold보다 작으면\n",
    "    if(value < threshold):\n",
    "        rare_cnt = rare_cnt + 1\n",
    "        rare_freq = rare_freq + value\n",
    "\n",
    "print('단어 집합(vocabulary)의 크기 :', total_cnt)\n",
    "print('등장 빈도가 %s번 이하인 희귀 단어의 수: %s'%(threshold - 1, rare_cnt))\n",
    "print('단어 집합에서 희귀 단어를 제외시킬 경우의 단어 집합의 크기 %s'%(total_cnt - rare_cnt))\n",
    "print(\"단어 집합에서 희귀 단어의 비율:\", (rare_cnt / total_cnt)*100)\n",
    "print(\"전체 등장 빈도에서 희귀 단어 등장 빈도 비율:\", (rare_freq / total_freq)*100)"
   ]
  },
  {
   "cell_type": "code",
   "execution_count": 30,
   "id": "cd32d05e",
   "metadata": {},
   "outputs": [
    {
     "name": "stdout",
     "output_type": "stream",
     "text": [
      "input\n",
      "input  [[1, 1539, 190, 5, 18, 48, 55], [1, 685, 7791, 424, 123, 1370, 496, 5, 524, 55], [1, 10, 4156, 3, 21, 2769, 90, 2268, 52, 1578], [1, 3355, 2087, 4, 2715, 11, 5589, 2455], [1, 736, 126, 873, 180, 4, 3356, 3, 4567, 373, 1086]]\n",
      "target\n",
      "decoder  [[1539, 190, 5, 18, 48, 55, 2], [685, 7791, 424, 123, 1370, 496, 5, 524, 55, 2], [10, 4156, 3, 21, 2769, 90, 2268, 52, 1578, 2], [3355, 2087, 4, 2715, 11, 5589, 2455, 2], [736, 126, 873, 180, 4, 3356, 3, 4567, 373, 1086, 2]]\n"
     ]
    }
   ],
   "source": [
    "# 빈도수적은 데이터 삭제\n",
    "\n",
    "tar_vocab = 12000\n",
    "tar_tokenizer = Tokenizer(num_words=tar_vocab) \n",
    "tar_tokenizer.fit_on_texts(decoder_input_train)\n",
    "tar_tokenizer.fit_on_texts(decoder_target_train)\n",
    "\n",
    "# 텍스트 시퀀스를 정수 시퀀스로 변환\n",
    "decoder_input_train = tar_tokenizer.texts_to_sequences(decoder_input_train) \n",
    "decoder_target_train = tar_tokenizer.texts_to_sequences(decoder_target_train)\n",
    "decoder_input_test = tar_tokenizer.texts_to_sequences(decoder_input_test)\n",
    "decoder_target_test = tar_tokenizer.texts_to_sequences(decoder_target_test)\n",
    "\n",
    "# 잘 변환되었는지 확인\n",
    "print('input')\n",
    "print('input ',decoder_input_train[:5])\n",
    "print('target')\n",
    "print('decoder ',decoder_target_train[:5])"
   ]
  },
  {
   "cell_type": "code",
   "execution_count": 31,
   "id": "aa5ef940",
   "metadata": {},
   "outputs": [
    {
     "name": "stdout",
     "output_type": "stream",
     "text": [
      "삭제할 훈련 데이터의 개수 : 0\n",
      "삭제할 테스트 데이터의 개수 : 0\n",
      "훈련 데이터의 개수 : 72607\n",
      "훈련 레이블의 개수 : 72607\n",
      "테스트 데이터의 개수 : 18151\n",
      "테스트 레이블의 개수 : 18151\n"
     ]
    }
   ],
   "source": [
    "# 훈련셋과 테스트셋에도 적용\n",
    "\n",
    "drop_train = [index for index, sentence in enumerate(decoder_input_train) if len(sentence) == 1]\n",
    "drop_test = [index for index, sentence in enumerate(decoder_input_test) if len(sentence) == 1]\n",
    "\n",
    "print('삭제할 훈련 데이터의 개수 :', len(drop_train))\n",
    "print('삭제할 테스트 데이터의 개수 :', len(drop_test))\n",
    "\n",
    "encoder_input_train = [sentence for index, sentence in enumerate(encoder_input_train) if index not in drop_train]\n",
    "decoder_input_train = [sentence for index, sentence in enumerate(decoder_input_train) if index not in drop_train]\n",
    "decoder_target_train = [sentence for index, sentence in enumerate(decoder_target_train) if index not in drop_train]\n",
    "\n",
    "encoder_input_test = [sentence for index, sentence in enumerate(encoder_input_test) if index not in drop_test]\n",
    "decoder_input_test = [sentence for index, sentence in enumerate(decoder_input_test) if index not in drop_test]\n",
    "decoder_target_test = [sentence for index, sentence in enumerate(decoder_target_test) if index not in drop_test]\n",
    "\n",
    "print('훈련 데이터의 개수 :', len(encoder_input_train))\n",
    "print('훈련 레이블의 개수 :', len(decoder_input_train))\n",
    "print('테스트 데이터의 개수 :', len(encoder_input_test))\n",
    "print('테스트 레이블의 개수 :', len(decoder_input_test))"
   ]
  },
  {
   "cell_type": "code",
   "execution_count": 32,
   "id": "53b2b780",
   "metadata": {},
   "outputs": [],
   "source": [
    "# 패딩추가\n",
    "\n",
    "encoder_input_train = pad_sequences(encoder_input_train, maxlen=text_max_len, padding='post')\n",
    "encoder_input_test = pad_sequences(encoder_input_test, maxlen=text_max_len, padding='post')\n",
    "decoder_input_train = pad_sequences(decoder_input_train, maxlen=head_max_len, padding='post')\n",
    "decoder_target_train = pad_sequences(decoder_target_train, maxlen=head_max_len, padding='post')\n",
    "decoder_input_test = pad_sequences(decoder_input_test, maxlen=head_max_len, padding='post')\n",
    "decoder_target_test = pad_sequences(decoder_target_test, maxlen=head_max_len, padding='post')"
   ]
  },
  {
   "cell_type": "markdown",
   "id": "d0359184",
   "metadata": {},
   "source": [
    "# 모델설계"
   ]
  },
  {
   "cell_type": "code",
   "execution_count": 33,
   "id": "deca6301",
   "metadata": {},
   "outputs": [
    {
     "name": "stdout",
     "output_type": "stream",
     "text": [
      "WARNING:tensorflow:Layer lstm will not use cuDNN kernels since it doesn't meet the criteria. It will use a generic GPU kernel as fallback when running on GPU.\n",
      "WARNING:tensorflow:Layer lstm_1 will not use cuDNN kernels since it doesn't meet the criteria. It will use a generic GPU kernel as fallback when running on GPU.\n",
      "WARNING:tensorflow:Layer lstm_2 will not use cuDNN kernels since it doesn't meet the criteria. It will use a generic GPU kernel as fallback when running on GPU.\n"
     ]
    }
   ],
   "source": [
    "# 인코더 설계 시작\n",
    "embedding_dim = 128\n",
    "hidden_size = 256  # LSTM에서 얼만큼의 수용력(capacity)를 가질지를 정하는 파라미터\n",
    "\n",
    "# 인코더\n",
    "encoder_inputs = Input(shape=(text_max_len,))\n",
    "\n",
    "# 인코더의 임베딩 층\n",
    "enc_emb = Embedding(src_vocab, embedding_dim)(encoder_inputs)\n",
    "\n",
    "# 인코더의 LSTM 1\n",
    "encoder_lstm1 = LSTM(hidden_size, return_sequences=True, return_state=True ,dropout = 0.4, recurrent_dropout = 0.4)\n",
    "encoder_output1, state_h1, state_c1 = encoder_lstm1(enc_emb)\n",
    "\n",
    "# 인코더의 LSTM 2\n",
    "encoder_lstm2 = LSTM(hidden_size, return_sequences=True, return_state=True, dropout=0.4, recurrent_dropout=0.4)\n",
    "encoder_output2, state_h2, state_c2 = encoder_lstm2(encoder_output1)\n",
    "\n",
    "# 인코더의 LSTM 3\n",
    "encoder_lstm3 = LSTM(hidden_size, return_state=True, return_sequences=True, dropout=0.4, recurrent_dropout=0.4)\n",
    "encoder_outputs, state_h, state_c= encoder_lstm3(encoder_output2)"
   ]
  },
  {
   "cell_type": "code",
   "execution_count": 34,
   "id": "62bdf010",
   "metadata": {},
   "outputs": [
    {
     "name": "stdout",
     "output_type": "stream",
     "text": [
      "WARNING:tensorflow:Layer lstm_3 will not use cuDNN kernels since it doesn't meet the criteria. It will use a generic GPU kernel as fallback when running on GPU.\n"
     ]
    }
   ],
   "source": [
    "# 디코더 설계\n",
    "decoder_inputs = Input(shape=(None,))\n",
    "\n",
    "# 디코더의 임베딩 층\n",
    "dec_emb_layer = Embedding(tar_vocab, embedding_dim)\n",
    "dec_emb = dec_emb_layer(decoder_inputs)\n",
    "\n",
    "# 디코더의 LSTM\n",
    "decoder_lstm = LSTM(hidden_size, return_sequences=True, return_state=True, dropout=0.4, recurrent_dropout=0.2)\n",
    "decoder_outputs, _, _ = decoder_lstm(dec_emb, initial_state=[state_h, state_c])"
   ]
  },
  {
   "cell_type": "code",
   "execution_count": 35,
   "id": "224f3714",
   "metadata": {},
   "outputs": [
    {
     "name": "stdout",
     "output_type": "stream",
     "text": [
      "Model: \"model\"\n",
      "__________________________________________________________________________________________________\n",
      "Layer (type)                    Output Shape         Param #     Connected to                     \n",
      "==================================================================================================\n",
      "input_1 (InputLayer)            [(None, 40)]         0                                            \n",
      "__________________________________________________________________________________________________\n",
      "embedding (Embedding)           (None, 40, 128)      2560000     input_1[0][0]                    \n",
      "__________________________________________________________________________________________________\n",
      "lstm (LSTM)                     [(None, 40, 256), (N 394240      embedding[0][0]                  \n",
      "__________________________________________________________________________________________________\n",
      "input_2 (InputLayer)            [(None, None)]       0                                            \n",
      "__________________________________________________________________________________________________\n",
      "lstm_1 (LSTM)                   [(None, 40, 256), (N 525312      lstm[0][0]                       \n",
      "__________________________________________________________________________________________________\n",
      "embedding_1 (Embedding)         (None, None, 128)    1536000     input_2[0][0]                    \n",
      "__________________________________________________________________________________________________\n",
      "lstm_2 (LSTM)                   [(None, 40, 256), (N 525312      lstm_1[0][0]                     \n",
      "__________________________________________________________________________________________________\n",
      "lstm_3 (LSTM)                   [(None, None, 256),  394240      embedding_1[0][0]                \n",
      "                                                                 lstm_2[0][1]                     \n",
      "                                                                 lstm_2[0][2]                     \n",
      "__________________________________________________________________________________________________\n",
      "dense (Dense)                   (None, None, 12000)  3084000     lstm_3[0][0]                     \n",
      "==================================================================================================\n",
      "Total params: 9,019,104\n",
      "Trainable params: 9,019,104\n",
      "Non-trainable params: 0\n",
      "__________________________________________________________________________________________________\n"
     ]
    }
   ],
   "source": [
    "# 디코더의 출력층\n",
    "decoder_softmax_layer = Dense(tar_vocab, activation='softmax')\n",
    "decoder_softmax_outputs = decoder_softmax_layer(decoder_outputs) \n",
    "\n",
    "# 모델 정의\n",
    "model = Model([encoder_inputs, decoder_inputs], decoder_softmax_outputs)\n",
    "model.summary()"
   ]
  },
  {
   "cell_type": "code",
   "execution_count": 36,
   "id": "00423238",
   "metadata": {},
   "outputs": [
    {
     "name": "stdout",
     "output_type": "stream",
     "text": [
      "Model: \"model_1\"\n",
      "__________________________________________________________________________________________________\n",
      "Layer (type)                    Output Shape         Param #     Connected to                     \n",
      "==================================================================================================\n",
      "input_1 (InputLayer)            [(None, 40)]         0                                            \n",
      "__________________________________________________________________________________________________\n",
      "embedding (Embedding)           (None, 40, 128)      2560000     input_1[0][0]                    \n",
      "__________________________________________________________________________________________________\n",
      "lstm (LSTM)                     [(None, 40, 256), (N 394240      embedding[0][0]                  \n",
      "__________________________________________________________________________________________________\n",
      "input_2 (InputLayer)            [(None, None)]       0                                            \n",
      "__________________________________________________________________________________________________\n",
      "lstm_1 (LSTM)                   [(None, 40, 256), (N 525312      lstm[0][0]                       \n",
      "__________________________________________________________________________________________________\n",
      "embedding_1 (Embedding)         (None, None, 128)    1536000     input_2[0][0]                    \n",
      "__________________________________________________________________________________________________\n",
      "lstm_2 (LSTM)                   [(None, 40, 256), (N 525312      lstm_1[0][0]                     \n",
      "__________________________________________________________________________________________________\n",
      "lstm_3 (LSTM)                   [(None, None, 256),  394240      embedding_1[0][0]                \n",
      "                                                                 lstm_2[0][1]                     \n",
      "                                                                 lstm_2[0][2]                     \n",
      "__________________________________________________________________________________________________\n",
      "attention_layer (AdditiveAttent (None, None, 256)    256         lstm_3[0][0]                     \n",
      "                                                                 lstm_2[0][0]                     \n",
      "__________________________________________________________________________________________________\n",
      "concat_layer (Concatenate)      (None, None, 512)    0           lstm_3[0][0]                     \n",
      "                                                                 attention_layer[0][0]            \n",
      "__________________________________________________________________________________________________\n",
      "dense_1 (Dense)                 (None, None, 12000)  6156000     concat_layer[0][0]               \n",
      "==================================================================================================\n",
      "Total params: 12,091,360\n",
      "Trainable params: 12,091,360\n",
      "Non-trainable params: 0\n",
      "__________________________________________________________________________________________________\n"
     ]
    }
   ],
   "source": [
    "# 어텐션 층 만들기\n",
    "\n",
    "# 어텐션 층(어텐션 함수)\n",
    "attn_layer = AdditiveAttention(name='attention_layer')\n",
    "\n",
    "# 인코더와 디코더의 모든 time step의 hidden state를 어텐션 층에 전달하고 결과를 리턴\n",
    "attn_out = attn_layer([decoder_outputs, encoder_outputs])\n",
    "\n",
    "\n",
    "# 어텐션의 결과와 디코더의 hidden state들을 연결\n",
    "decoder_concat_input = Concatenate(axis=-1, name='concat_layer')([decoder_outputs, attn_out])\n",
    "\n",
    "# 디코더의 출력층\n",
    "decoder_softmax_layer = Dense(tar_vocab, activation='softmax')\n",
    "decoder_softmax_outputs = decoder_softmax_layer(decoder_concat_input)\n",
    "\n",
    "# 모델 정의\n",
    "model = Model([encoder_inputs, decoder_inputs], decoder_softmax_outputs)\n",
    "model.summary()"
   ]
  },
  {
   "cell_type": "code",
   "execution_count": 37,
   "id": "d57d5ecc",
   "metadata": {},
   "outputs": [
    {
     "name": "stdout",
     "output_type": "stream",
     "text": [
      "Epoch 1/50\n",
      "284/284 [==============================] - 178s 594ms/step - loss: 5.0273 - val_loss: 4.6233\n",
      "Epoch 2/50\n",
      "284/284 [==============================] - 167s 586ms/step - loss: 4.5274 - val_loss: 4.3201\n",
      "Epoch 3/50\n",
      "284/284 [==============================] - 166s 585ms/step - loss: 4.2321 - val_loss: 4.0767\n",
      "Epoch 4/50\n",
      "284/284 [==============================] - 165s 581ms/step - loss: 4.0046 - val_loss: 3.9113\n",
      "Epoch 5/50\n",
      "284/284 [==============================] - 164s 578ms/step - loss: 3.8223 - val_loss: 3.7943\n",
      "Epoch 6/50\n",
      "284/284 [==============================] - 164s 579ms/step - loss: 3.6718 - val_loss: 3.6873\n",
      "Epoch 7/50\n",
      "284/284 [==============================] - 164s 578ms/step - loss: 3.5453 - val_loss: 3.6038\n",
      "Epoch 8/50\n",
      "284/284 [==============================] - 166s 584ms/step - loss: 3.4364 - val_loss: 3.5492\n",
      "Epoch 9/50\n",
      "284/284 [==============================] - 165s 581ms/step - loss: 3.3400 - val_loss: 3.4981\n",
      "Epoch 10/50\n",
      "284/284 [==============================] - 164s 577ms/step - loss: 3.2550 - val_loss: 3.4581\n",
      "Epoch 11/50\n",
      "284/284 [==============================] - 163s 574ms/step - loss: 3.1790 - val_loss: 3.4252\n",
      "Epoch 12/50\n",
      "284/284 [==============================] - 163s 574ms/step - loss: 3.1062 - val_loss: 3.3970\n",
      "Epoch 13/50\n",
      "284/284 [==============================] - 163s 575ms/step - loss: 3.0452 - val_loss: 3.3700\n",
      "Epoch 14/50\n",
      "284/284 [==============================] - 164s 576ms/step - loss: 2.9896 - val_loss: 3.3534\n",
      "Epoch 15/50\n",
      "284/284 [==============================] - 163s 574ms/step - loss: 2.9348 - val_loss: 3.3360\n",
      "Epoch 16/50\n",
      "284/284 [==============================] - 163s 573ms/step - loss: 2.8859 - val_loss: 3.3149\n",
      "Epoch 17/50\n",
      "284/284 [==============================] - 163s 573ms/step - loss: 2.8377 - val_loss: 3.3027\n",
      "Epoch 18/50\n",
      "284/284 [==============================] - 165s 582ms/step - loss: 2.7929 - val_loss: 3.2958\n",
      "Epoch 19/50\n",
      "284/284 [==============================] - 165s 580ms/step - loss: 2.7509 - val_loss: 3.2831\n",
      "Epoch 20/50\n",
      "284/284 [==============================] - 165s 582ms/step - loss: 2.7118 - val_loss: 3.2769\n",
      "Epoch 21/50\n",
      "284/284 [==============================] - 165s 580ms/step - loss: 2.6739 - val_loss: 3.2678\n",
      "284/284 [==============================] - 165s 580ms/step - loss: 2.6411 - val_loss: 3.2609\n",
      "Epoch 23/50\n",
      "284/284 [==============================] - 163s 575ms/step - loss: 2.6092 - val_loss: 3.2576\n",
      "Epoch 24/50\n",
      "284/284 [==============================] - 163s 573ms/step - loss: 2.5768 - val_loss: 3.2504\n",
      "Epoch 25/50\n",
      "284/284 [==============================] - 163s 575ms/step - loss: 2.5437 - val_loss: 3.2431\n",
      "Epoch 26/50\n",
      "284/284 [==============================] - 163s 575ms/step - loss: 2.5150 - val_loss: 3.2429\n",
      "Epoch 27/50\n",
      "284/284 [==============================] - 164s 577ms/step - loss: 2.4886 - val_loss: 3.2425\n",
      "Epoch 28/50\n",
      "284/284 [==============================] - 163s 575ms/step - loss: 2.4646 - val_loss: 3.2401\n",
      "Epoch 29/50\n",
      "284/284 [==============================] - 163s 575ms/step - loss: 2.4362 - val_loss: 3.2431\n",
      "Epoch 30/50\n",
      "284/284 [==============================] - 164s 578ms/step - loss: 2.4072 - val_loss: 3.2400\n",
      "Epoch 31/50\n",
      "284/284 [==============================] - 164s 579ms/step - loss: 2.3832 - val_loss: 3.2387\n",
      "Epoch 32/50\n",
      "284/284 [==============================] - 163s 573ms/step - loss: 2.3626 - val_loss: 3.2364\n",
      "Epoch 33/50\n",
      "284/284 [==============================] - 163s 574ms/step - loss: 2.3395 - val_loss: 3.2395\n",
      "Epoch 34/50\n",
      "284/284 [==============================] - 162s 571ms/step - loss: 2.3192 - val_loss: 3.2389\n",
      "Epoch 00034: early stopping\n"
     ]
    }
   ],
   "source": [
    "# 훈련\n",
    "\n",
    "model.compile(optimizer='rmsprop', loss='sparse_categorical_crossentropy')\n",
    "es = EarlyStopping(monitor='val_loss', patience=2, verbose=1)\n",
    "history = model.fit(x=[encoder_input_train, decoder_input_train], y=decoder_target_train, \\\n",
    "          validation_data=([encoder_input_test, decoder_input_test], decoder_target_test), \\\n",
    "          batch_size=256, callbacks=[es], epochs=50)"
   ]
  },
  {
   "cell_type": "code",
   "execution_count": 38,
   "id": "19425e69",
   "metadata": {},
   "outputs": [
    {
     "data": {
      "image/png": "[encoded data removed]",
      "text/plain": [
       "<Figure size 432x288 with 1 Axes>"
      ]
     },
     "metadata": {
      "needs_background": "light"
     },
     "output_type": "display_data"
    }
   ],
   "source": [
    "# 로스커브\n",
    "\n",
    "plt.plot(history.history['loss'], label='train')\n",
    "plt.plot(history.history['val_loss'], label='test')\n",
    "plt.legend()\n",
    "plt.show()"
   ]
  },
  {
   "cell_type": "code",
   "execution_count": 39,
   "id": "1fa8f168",
   "metadata": {},
   "outputs": [
    {
     "name": "stdout",
     "output_type": "stream",
     "text": [
      "a\n"
     ]
    }
   ],
   "source": [
    "# 정수데이터 복원\n",
    "\n",
    "src_index_to_word = src_tokenizer.index_word # 원문 단어 집합에서 정수 -> 단어를 얻음\n",
    "tar_word_to_index = tar_tokenizer.word_index # 요약 단어 집합에서 단어 -> 정수를 얻음\n",
    "tar_index_to_word = tar_tokenizer.index_word # 요약 단어 집합에서 정수 -> 단어를 얻음\n",
    "\n",
    "print('a')"
   ]
  },
  {
   "cell_type": "code",
   "execution_count": 40,
   "id": "f2817dc6",
   "metadata": {},
   "outputs": [],
   "source": [
    "# 인코더 설계\n",
    "encoder_model = Model(inputs=encoder_inputs, outputs=[encoder_outputs, state_h, state_c])\n",
    "\n",
    "# 이전 시점의 상태들을 저장하는 텐서\n",
    "decoder_state_input_h = Input(shape=(hidden_size,))\n",
    "decoder_state_input_c = Input(shape=(hidden_size,))\n",
    "\n",
    "dec_emb2 = dec_emb_layer(decoder_inputs)\n",
    "\n",
    "# 문장의 다음 단어를 예측하기 위해서 초기 상태(initial_state)를 이전 시점의 상태로 사용. 이는 뒤의 함수 decode_sequence()에 구현\n",
    "# 훈련 과정에서와 달리 LSTM의 리턴하는 은닉 상태와 셀 상태인 state_h와 state_c를 버리지 않음.\n",
    "decoder_outputs2, state_h2, state_c2 = decoder_lstm(dec_emb2, initial_state=[decoder_state_input_h, decoder_state_input_c])\n"
   ]
  },
  {
   "cell_type": "code",
   "execution_count": 41,
   "id": "ccb19be1",
   "metadata": {},
   "outputs": [],
   "source": [
    "# 어텐션 함수\n",
    "decoder_hidden_state_input = Input(shape=(text_max_len, hidden_size))\n",
    "attn_out_inf = attn_layer([decoder_outputs2, decoder_hidden_state_input])\n",
    "decoder_inf_concat = Concatenate(axis=-1, name='concat')([decoder_outputs2, attn_out_inf])\n",
    "\n",
    "# 디코더의 출력층\n",
    "decoder_outputs2 = decoder_softmax_layer(decoder_inf_concat) \n",
    "\n",
    "# 최종 디코더 모델\n",
    "decoder_model = Model(\n",
    "    [decoder_inputs] + [decoder_hidden_state_input,decoder_state_input_h, decoder_state_input_c],\n",
    "    [decoder_outputs2] + [state_h2, state_c2])\n"
   ]
  },
  {
   "cell_type": "code",
   "execution_count": 42,
   "id": "c93e86fe",
   "metadata": {},
   "outputs": [],
   "source": [
    "def decode_sequence(input_seq):\n",
    "    # 입력으로부터 인코더의 상태를 얻음\n",
    "    e_out, e_h, e_c = encoder_model.predict(input_seq)\n",
    "\n",
    "     # <SOS>에 해당하는 토큰 생성\n",
    "    target_seq = np.zeros((1,1))\n",
    "    target_seq[0, 0] = tar_word_to_index['sostoken']\n",
    "\n",
    "    stop_condition = False\n",
    "    decoded_sentence = ''\n",
    "    while not stop_condition: # stop_condition이 True가 될 때까지 루프 반복\n",
    "\n",
    "        output_tokens, h, c = decoder_model.predict([target_seq] + [e_out, e_h, e_c])\n",
    "        sampled_token_index = np.argmax(output_tokens[0, -1, :])\n",
    "        sampled_token = tar_index_to_word[sampled_token_index]\n",
    "\n",
    "        if (sampled_token!='eostoken'):\n",
    "            decoded_sentence += ' '+sampled_token\n",
    "\n",
    "        #  <eos>에 도달하거나 최대 길이를 넘으면 중단.\n",
    "        if (sampled_token == 'eostoken'  or len(decoded_sentence.split()) >= (head_max_len-1)):\n",
    "            stop_condition = True\n",
    "\n",
    "        # 길이가 1인 타겟 시퀀스를 업데이트\n",
    "        target_seq = np.zeros((1,1))\n",
    "        target_seq[0, 0] = sampled_token_index\n",
    "\n",
    "        # 상태를 업데이트 합니다.\n",
    "        e_h, e_c = h, c\n",
    "\n",
    "    return decoded_sentence"
   ]
  },
  {
   "cell_type": "code",
   "execution_count": 43,
   "id": "ca075e58",
   "metadata": {},
   "outputs": [],
   "source": [
    "# 숫자0 인덱스에서 제외\n",
    "# 원문의 정수 시퀀스를 텍스트 시퀀스로 변환\n",
    "def seq2text(input_seq):\n",
    "    temp=''\n",
    "    for i in input_seq:\n",
    "        if (i!=0):\n",
    "            temp = temp + src_index_to_word[i]+' '\n",
    "    return temp\n",
    "\n",
    "# 요약문의 정수 시퀀스를 텍스트 시퀀스로 변환\n",
    "def seq2summary(input_seq):\n",
    "    temp=''\n",
    "    for i in input_seq:\n",
    "        if ((i!=0 and i!=tar_word_to_index['sostoken']) and i!=tar_word_to_index['eostoken']):\n",
    "            temp = temp + tar_index_to_word[i] + ' '\n",
    "    return temp"
   ]
  },
  {
   "cell_type": "code",
   "execution_count": 44,
   "id": "a44ef3f7",
   "metadata": {},
   "outputs": [
    {
     "name": "stdout",
     "output_type": "stream",
     "text": [
      "원문 : lakh people signed petition declare billionaire george soros terrorist petition accuses soros sedition us demanding affiliates declared domestic terrorists assets seized since reached lakh signatures threshold september deadline white house provide formal response \n",
      "실제 헤드라인 : petition to declare billionaire terrorist gets signs \n",
      "예측 헤드라인 :  lakh petition filed against isis for st time in years\n",
      "\n",
      "\n",
      "원문 : south africa called indian spinner named ajay rajput nets help batsmen prepare indian spinners kuldeep yadav yuzvendra chahal ahead fourth odi comes south african team lost wickets spinners first three odis rajput primarily spinner plays johannesburg premier league \n",
      "실제 헤드라인 : sa call up indian spinner at nets to tackle kuldeep chahal \n",
      "예측 헤드라인 :  mithali yadav takes wicket haul in sa cricket team\n",
      "\n",
      "\n",
      "원문 : congress chief rahul gandhi monday claimed pm narendra modi creating two said one hindustan anil ambani get rafale contract modiji citing media report added second hindustan farmers whose kg onion grown four months get modiji \n",
      "실제 헤드라인 : pm creating for farmers for ambani rahul \n",
      "예측 헤드라인 :  pm modi is the only of the rafale says rahul\n",
      "\n",
      "\n",
      "원문 : shah rukh khan amitabh bachchan star together upcoming film titled per reports shah rukh production house red chillies entertainment reportedly producing film two actors last seen together onscreen film returns shah rukh cameo appearance \n",
      "실제 헤드라인 : srk amitabh to star together in upcoming film reports \n",
      "예측 헤드라인 :  shah rukh to star in srk film in bharat report\n",
      "\n",
      "\n",
      "원문 : johnson johnson lawsuit california woman claimed developed cancer exposed asbestos company talc based products company statement said powder around since contain asbestos people filed cases company talc causing cancer \n",
      "실제 헤드라인 : wins california lawsuit over causing cancer \n",
      "예측 헤드라인 :  woman sues us for million\n",
      "\n",
      "\n",
      "원문 : odisha government tuesday ordered ban use plastic bags single use plastic state starting october ban imposed bhubaneswar cuttack municipal corporations puri town first phase entire state covered separate phases span two years \n",
      "실제 헤드라인 : odisha to ban use of plastic in phases from october \n",
      "예측 헤드라인 :  plastic ban on plastic bags in maharashtra\n",
      "\n",
      "\n",
      "원문 : delhi cm arvind kejriwal termed disqualification rebel jd leader sharad yadav rajya sabha illegal unconstitutional political vendetta strongly condemn demand disqualification revoked kejriwal added comes vice president venkaiah naidu ruled yadav voluntarily gave membership party indulging anti party activities \n",
      "실제 헤드라인 : sharad yadav disqualification from rs illegal kejriwal \n",
      "예측 헤드라인 :  no one of the political parties in delhi cm kejriwal\n",
      "\n",
      "\n",
      "원문 : least seven people killed two others injured heavy rain lashed parts dehradun wednesday police said government schools anganwadi centres closed residents staying near drains asked take precautions national disaster response force state disaster response force informed \n",
      "실제 헤드라인 : people killed amid heavy rain in dehradun \n",
      "예측 헤드라인 :  killed injured in explosion in uttar pradesh\n",
      "\n",
      "\n",
      "원문 : video venezuelan national guard armoured vehicle crowd demonstrators surfaced online video shows vehicle running protester survived dragged beneath vehicle protesters around people killed others injured since demonstrations began april \n",
      "실제 헤드라인 : video venezuelan military vehicle ploughs into protesters \n",
      "예측 헤드라인 :  video shows vehicle carrying gun at mexico border\n",
      "\n",
      "\n",
      "원문 : argentine football legend diego maradona attempted recreate hand god goal knocked england world cup charity match south korea five side match referee gave maradona yellow card handling ball later year old scored rebound failing convert penalty match \n",
      "실제 헤드라인 : diego maradona attempts hand of god in charity match \n",
      "예측 헤드라인 :  maradona to play fifa world cup after scoring\n",
      "\n",
      "\n",
      "원문 : indian cricketers smriti mandhana harmanpreet kaur hit match winning fifties respective sides women big bash league australia smriti scored balls help hobart hurricanes register win melbourne stars harmanpreet scored ball also took wicket guide sydney thunder victory brisbane heat \n",
      "실제 헤드라인 : smriti harmanpreet hit match winning fifties in big bash \n",
      "예측 헤드라인 :  kl rahul takes wickets in county cricket team\n",
      "\n",
      "\n",
      "원문 : hyderabad police officer drove eight schoolgirls exam centre bus broke officer said offered students ride saw crying adding government vehicle mine serving public duty photo incident gone viral \n",
      "실제 헤드라인 : hyderabad cop drops stranded schoolgirls to exam centre \n",
      "예측 헤드라인 :  fir filed against cop for trying to stop fir in bengaluru\n",
      "\n",
      "\n",
      "원문 : arguing teachers armed guns us women republican lawmaker claimed women scared guns want learn shoot comes us government announced would pay states firearms training teachers respond mass shooting attacks \n",
      "실제 헤드라인 : teachers should not carry guns as most are women us lawmaker \n",
      "예측 헤드라인 :  us cops asked to stop hate to stop hate from us\n",
      "\n",
      "\n",
      "원문 : odisha cm naveen patnaik wednesday said state health insurance scheme much better centre pradhan mantri ayushman bharat programme stating people irrespective economic status benefitted biju kalyan yojana patnaik asked disease see poor rich affecting person launched august \n",
      "실제 헤드라인 : odisha health care scheme better than centre cm patnaik \n",
      "예측 헤드라인 :  will give lakh to give funds to medical scheme cm\n",
      "\n",
      "\n",
      "원문 : member us navy demonstration team died sunday parachute failed open performing aerial exhibition part new york fleet week festival fleet week annual celebration honour members us navy coast guard marine corps showcase maritime services latest capabilities \n",
      "실제 헤드라인 : us navy dies after parachute fails to open \n",
      "예측 헤드라인 :  us navy station dies after being forced to be\n",
      "\n",
      "\n",
      "원문 : legend breath wild game awards game year beating likes super mario horizon zero dawn resident evil best vr ar game award ii new best action game award \n",
      "실제 헤드라인 : breath of the wild wins game of the year award \n",
      "예측 헤드라인 :  wins the first time of the season\n",
      "\n",
      "\n",
      "원문 : traders body cait urged commerce minister suresh prabhu probe amazon samara capital acquisition billionaire kumar mangalam birla supermarket chain cait claims deal revised fdi policy commerce wants stay deal till probe conducted comes cci approved acquisition friday \n",
      "실제 헤드라인 : cait urges suresh prabhu to probe amazon more deal \n",
      "예측 헤드라인 :  traders body seeks amazon flipkart amazon deal with traders body\n",
      "\n",
      "\n",
      "원문 : tata steel closely following insolvency resolution process initiated banks acquire stressed assets dollar process insolvency resolution found transparent tata steel evaluate opportunities acquiring existing manufacturing capacity notably steel firms rbi bad loan accounts list \n",
      "실제 헤드라인 : tata steel looking to acquire firms in rbi bad loans list \n",
      "예측 헤드라인 :  tata steel sues steel over steel dispute\n",
      "\n",
      "\n",
      "원문 : delhi high court friday ordered income tax department probe congress president sonia gandhi vice president rahul gandhi national herald case however reports stated congress leaders may move supreme court high court order patiala house court granted bail sonia rahul \n",
      "실제 헤드라인 : dept to probe sonia rahul in national herald case \n",
      "예측 헤드라인 :  rahul notice to rahul over defamation charges\n",
      "\n",
      "\n",
      "원문 : talking mainstream films actor manoj bajpayee said commercial films like going office like job like commercial films things conveyed easily get chance work character like wear costume say dialogues conviction get added \n",
      "실제 헤드라인 : doing commercial films is like going to office manoj \n",
      "예측 헤드라인 :  do not want to make films do not make film films manoj\n",
      "\n",
      "\n",
      "원문 : former uidai chairman nandan nilekani said india good wicket privacy said confident government aadhaar card scheme successfully pass test privacy previously finance minister arun jaitley said aadhaar card scheme enrolled billion people stand test \n",
      "실제 헤드라인 : india is on very good wicket on privacy nandan nilekani \n",
      "예측 헤드라인 :  aadhaar must be paid by any bank chief\n",
      "\n",
      "\n",
      "원문 : royal challengers bangalore captain virat kohli adopted disabled dogs rescue rehabilitation centre bengaluru people go ones virat chose specifically take care blind ones rehabilitation centre founder said kohli visit reportedly supposed last minutes stayed almost hour \n",
      "실제 헤드라인 : virat kohli adopts disabled dogs in bengaluru \n",
      "예측 헤드라인 :  virat kohli visits rcb cricketer for charity\n",
      "\n",
      "\n",
      "원문 : dr kafeel khan accused death children gorakhpur said brother shot bike borne assailants metres away gorakhnath temple uttar pradesh cm yogi adityanath staying adding brother operated successfully posted video social media saying allah going bend \n",
      "실제 헤드라인 : brother shot mt from where up cm stayed gorakhpur doc \n",
      "예측 헤드라인 :  bihar journalist accused of killing after being shot dead\n",
      "\n",
      "\n",
      "원문 : american female voice apple personal assistant siri belongs susan stated original siri voices across world came bank digital voices recorded additionally jon first british male voice karen australian voice siri \n",
      "실제 헤드라인 : who is the voice behind apple siri \n",
      "예측 헤드라인 :  apple doodle speaker named world most dangerous\n",
      "\n",
      "\n",
      "원문 : goods services tax regime completed one year implementation sunday congress spokesperson randeep surjewala tweeted remains grossly scary tax millions traders shopkeepers businessmen gst popular description gabbar singh tax genuine simple tax added multiple tax slabs made traders lives nightmare claimed \n",
      "실제 헤드라인 : gst is scary tax cong as tax regime completes yr \n",
      "예측 헤드라인 :  gst price was no one of gst on gst congress\n",
      "\n",
      "\n",
      "원문 : bengaluru police commissioner kumar monday ordered probe harassment year old rape victim personnel nagar police station victim alleged policeman demanded fuel money order travel arrest accused police station staff also allegedly questioned victim morality \n",
      "실제 헤드라인 : probe ordered into luru rape victim harassment by police \n",
      "예측 헤드라인 :  booked for raping cops booked for raping year old girl\n",
      "\n",
      "\n",
      "원문 : england football league two side county fc provided opportunity roy year old fan suffering dementia score goal front fans club home ground lane got walk pitch wearing jersey printed name \n",
      "실제 헤드라인 : club yr old fan wish to score in home ground \n",
      "예측 헤드라인 :  fan city fan fails to fan who called him during match\n",
      "\n",
      "\n",
      "원문 : uttar pradesh cm yogi adityanath saturday announced special arrangements stray cows dogs monkeys birds would made every nagar nigam state facilities already place stray animals lucknow added announcement came cm yogi laid foundation stone development schemes worth crore \n",
      "실제 헤드라인 : stray dogs cows to get facilities at nagar up cm \n",
      "예측 헤드라인 :  up cm yogi to get food stray stray cows in food\n",
      "\n",
      "\n",
      "원문 : nasa created known place universe inside nasa cold atom laboratory international space station researchers successfully produced clouds atoms reach degree absolute zero temperature launched may producing atoms daily study atoms vacuum nasa said \n",
      "실제 헤드라인 : nasa creates known place in universe at space station \n",
      "예측 헤드라인 :  nasa probe on mars that can be made\n",
      "\n",
      "\n",
      "원문 : finance minister arun jaitley said government initiatives like gst demonetisation desired impact said need shake system order reduce quantum cash make india tax compliant society said immediately demonetisation sharp reduction insurgency terror activities \n",
      "실제 헤드라인 : need to shake the system to make india tax compliant fm \n",
      "예측 헤드라인 :  gst rate of gst arun jaitley\n",
      "\n",
      "\n",
      "원문 : white house lit blue sunday mark world autism awareness day said us president donald trump urged people learn signs autism understand challenges faced autism spectrum disorders autism developmental disability affects person relates people \n",
      "실제 헤드라인 : white house to be lit up in blue on awareness day \n",
      "예측 헤드라인 :  trump rolls out of white house for white house\n",
      "\n",
      "\n",
      "원문 : delhi restaurant indian accent ranked list top restaurants world prepared william reed business media meanwhile kolkata born chef anand bangkok restaurant ranked number becoming best restaurant asia italy declared best restaurant list \n",
      "실제 헤드라인 : delhi indian accent ranked among world best eateries \n",
      "예측 헤드라인 :  delhi named best indian city for the world ranked\n",
      "\n",
      "\n",
      "원문 : sri lanka signed billion deal lease southern hambantota port china port play key role china one belt one road initiative linking ports roads china europe chinese officials said comes amid concerns port could used military activities china \n",
      "실제 헤드라인 : sri lanka china sign billion port deal \n",
      "예측 헤드라인 :  china to set up to set up bn to china over trade war\n",
      "\n",
      "\n",
      "원문 : shares services giant infosys fell thursday wiping crore company market capitalisation ahead june quarter earnings next week infosys longer india seventh valued firm market valuation plunged lakh crore maruti suzuki market capitalisation lakh crore india seventh valued firm \n",
      "실제 헤드라인 : infosys loses cr value no more th most valued firm \n",
      "예측 헤드라인 :  infosys adds crore in cap after infosys shares surge\n",
      "\n",
      "\n",
      "원문 : samajwadi party president akhilesh yadav reportedly asked uttar pradesh government two years vacate government bungalow days supreme court ordered former cms vacate official accommodations yadav argued needs time arrange alternative residence considering security accommodate security commandos \n",
      "실제 헤드라인 : akhilesh asks for yrs to vacate govt bungalow post sc order \n",
      "예측 헤드라인 :  will not leave any bungalow if we don give govt akhilesh yadav\n",
      "\n",
      "\n",
      "원문 : researchers university university bugs lte protocols could track user location spy messages even send fake emergency alerts hackers also connect lte network impersonating user phone number cause attacks lack authentication encryption researchers said \n",
      "실제 헤드라인 : bugs in could track location spy on messages study \n",
      "예측 헤드라인 :  hacked to use users to use photos of human rights\n",
      "\n",
      "\n",
      "원문 : ukraine banned american actor steven five years security services labelling threat national security latest blacklisted cultural figures recently received russian citizenship whose grandparents russia also called russia annexation crimea ukraine reasonable performed pro putin biker club concert \n",
      "실제 헤드라인 : ukraine bans steven as threat to national security \n",
      "예측 헤드라인 :  turkey rejects turkish president from nato\n",
      "\n",
      "\n",
      "원문 : amid ongoing crisis maldives china said want island nation become another ties india came reports suggested india may send troops maldives however india china touch discuss ways resolve maldives issue reports said \n",
      "실제 헤드라인 : do not want maldives to be another issue with india china \n",
      "예측 헤드라인 :  india should not allow doklam standoff to china\n",
      "\n",
      "\n",
      "원문 : supreme court friday indicated would two month old verdict reduced severity anti dowry law saying appeared affect rights women court july put end immediate arrests dowry related cases directed authorities set family welfare committees verify allegations \n",
      "실제 헤드라인 : sc may verdict which anti dowry law \n",
      "예측 헤드라인 :  sc rejects plea to hear plea seeking child rights in laws\n",
      "\n",
      "\n",
      "원문 : former captain rahul dravid appointed india batting consultant overseas tours bcci announced tuesday dravid would take role alongside current position coach india teams recently given two year extension dravid appointed alongside ravi shastri head coach zaheer khan bowling coach \n",
      "실제 헤드라인 : dravid to be india batting consultant for overseas tours \n",
      "예측 헤드라인 :  dravid dravid to play in india for crore\n",
      "\n",
      "\n",
      "원문 : forward antoine griezmann scored france first goal fifa world cup converting first ever penalty awarded video assistant referee tournament history apparent foul griezmann referee initially allowed play continue stopped alerted var reviewed footage awarded penalty \n",
      "실제 헤드라인 : france net first penalty awarded by in world cup history \n",
      "예측 헤드라인 :  croatia player scores from wc after wc winning wc win\n",
      "\n",
      "\n",
      "원문 : delhi police planning set kiosks monitored male female officers school campuses respond queries safety security parents students according officials noida gurugram police officials also announced regular security audits check children left unattended particular time campus \n",
      "실제 헤드라인 : delhi police to set up on school \n",
      "예측 헤드라인 :  delhi police to get cctvs to ensure safety of girls\n",
      "\n",
      "\n",
      "원문 : saudi arabia embassy us may funded test run attacks according evidence submitted ongoing lawsuit saudi government documents allege embassy paid two saudi nationals fly phoenix washington two years attacks took place part dry run \n",
      "실제 헤드라인 : saudi government funded dry run for attacks report \n",
      "예측 헤드라인 :  saudi arabia to be ready to us for its first us\n",
      "\n",
      "\n",
      "원문 : state run indian oil corporation tuesday reported increase year year net profit crore march quarter compared crore quarter last fiscal company revenue operations jumped lakh crore shares company plunged announced results \n",
      "실제 헤드라인 : indian oil profit rises to cr in march quarter \n",
      "예측 헤드라인 :  india profit rises to crore in june quarter\n",
      "\n",
      "\n",
      "원문 : cricket australia revealed david warner mastermind ball tampering plan third test south africa ca said warner banned year international domestic cricket instructed team youngest member cameron bancroft carry plan demonstrated could done \n",
      "실제 헤드라인 : david warner was mastermind of ball tampering plan ca \n",
      "예측 헤드라인 :  warner told to play in australia for not warner\n",
      "\n",
      "\n",
      "원문 : us based startup unveiled artificial intelligence powered pet robot named kiki consumer electronics show las vegas smart pet features camera nose track person moving head also identify person upset try cheer singing dancing \n",
      "실제 헤드라인 : ai powered robot pet kiki unveiled at ces \n",
      "예측 헤드라인 :  robot which can be used to robot for pet dog\n",
      "\n",
      "\n",
      "원문 : caltech engineers two images single surface without loss resolution said overturn long held single surface could project single image hologram illuminated straight laser projected caltech logo however projected another logo research group \n",
      "실제 헤드라인 : team two on one surface \n",
      "예측 헤드라인 :  scientists to study its first ever ever tv\n",
      "\n",
      "\n",
      "원문 : mumbai man allegedly killed year old mother slitting throat sat body seven hours police first gave heavy sleeping pills tried pillow accused unable manage medical bills constantly fought police said \n",
      "실제 헤드라인 : man kills mother in third attempt sits with her body for hours \n",
      "예측 헤드라인 :  man kills daughter for not smoking in mumbai\n",
      "\n",
      "\n",
      "원문 : pakistan cricket team led imran khan maiden world cup title defeating england runs final melbourne cricket ground march pakistan finished fourth group stage went defeat australia sri lanka new zealand run tournament final \n",
      "실제 헤드라인 : pakistan won their maiden world cup title on march \n",
      "예측 헤드라인 :  pak to win world cup final after pak win vs nz\n",
      "\n",
      "\n",
      "원문 : parineeti chopra said biggest myth people believe actors throw actors humble put public added parineeti said careful everything lives demanding life \n",
      "실제 헤드라인 : biggest myth about actors is they throw parineeti \n",
      "예측 헤드라인 :  parineeti chopra is the biggest says parineeti\n",
      "\n",
      "\n"
     ]
    }
   ],
   "source": [
    "# 실제 결과와 요약문 비교하기\n",
    "\n",
    "for i in range(50, 100):\n",
    "    print(\"원문 :\", seq2text(encoder_input_test[i]))\n",
    "    print(\"실제 헤드라인 :\", seq2summary(decoder_input_test[i]))\n",
    "    print(\"예측 헤드라인 :\", decode_sequence(encoder_input_test[i].reshape(1, text_max_len)))\n",
    "    print(\"\\n\")"
   ]
  }
 ],
 "metadata": {
  "kernelspec": {
   "display_name": "Python 3 (ipykernel)",
   "language": "python",
   "name": "python3"
  },
  "language_info": {
   "codemirror_mode": {
    "name": "ipython",
    "version": 3
   },
   "file_extension": ".py",
   "mimetype": "text/x-python",
   "name": "python",
   "nbconvert_exporter": "python",
   "pygments_lexer": "ipython3",
   "version": "3.9.7"
  }
 },
 "nbformat": 4,
 "nbformat_minor": 5
}
