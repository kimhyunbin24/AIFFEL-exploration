{
 "cells": [
  {
   "cell_type": "code",
   "execution_count": 1,
   "id": "8c20125a",
   "metadata": {},
   "outputs": [],
   "source": [
    "import glob\n",
    "import os, re\n",
    "import tensorflow as tf\n",
    "from sklearn.model_selection import train_test_split"
   ]
  },
  {
   "cell_type": "code",
   "execution_count": 2,
   "id": "afc51a95",
   "metadata": {},
   "outputs": [
    {
     "name": "stdout",
     "output_type": "stream",
     "text": [
      "데이터 크기: 187088\n",
      "Examples:\n",
      " [\"Now I've heard there was a secret chord\", 'That David played, and it pleased the Lord', \"But you don't really care for music, do you?\"]\n"
     ]
    }
   ],
   "source": [
    "txt_file_path = os.getenv('HOME')+'/data/lyrics/*'\n",
    "\n",
    "txt_list = glob.glob(txt_file_path)\n",
    "\n",
    "raw_corpus = []\n",
    "\n",
    "# 여러개의 txt 파일을 모두 읽어서 raw_corpus 에 담습니다.\n",
    "for txt_file in txt_list:\n",
    "    with open(txt_file, \"r\") as f:\n",
    "        raw = f.read().splitlines()\n",
    "        raw_corpus.extend(raw)\n",
    "\n",
    "print(\"데이터 크기:\", len(raw_corpus))\n",
    "print(\"Examples:\\n\", raw_corpus[:3])"
   ]
  },
  {
   "cell_type": "code",
   "execution_count": 3,
   "id": "2e244c88",
   "metadata": {},
   "outputs": [
    {
     "name": "stdout",
     "output_type": "stream",
     "text": [
      "Now I've heard there was a secret chord\n",
      "That David played, and it pleased the Lord\n",
      "But you don't really care for music, do you?\n",
      "It goes like this\n",
      "The fourth, the fifth\n",
      "The minor fall, the major lift\n",
      "The baffled king composing Hallelujah Hallelujah\n",
      "Hallelujah\n",
      "Hallelujah\n",
      "Hallelujah Your faith was strong but you needed proof\n",
      "You saw her bathing on the roof\n",
      "Her beauty and the moonlight overthrew her\n",
      "She tied you\n",
      "To a kitchen chair\n",
      "She broke your throne, and she cut your hair\n",
      "And from your lips she drew the Hallelujah Hallelujah\n"
     ]
    }
   ],
   "source": [
    "# 너무긴문장은 가사에는 적합하지않기때문에 토큰의갯수가 15개이상인 데이터 제외\n",
    "for idx, sentence in enumerate(raw_corpus):\n",
    "    if len(sentence) == 0: continue   # 길이가 0인 문장은 건너뜁니다.\n",
    "    if sentence[-1] == \":\": continue  # 문장의 끝이 : 인 문장은 건너뜁니다.\n",
    "\n",
    "    if idx > 15: break  # 15개 이하\n",
    "        \n",
    "    print(sentence)"
   ]
  },
  {
   "cell_type": "markdown",
   "id": "10637549",
   "metadata": {},
   "source": [
    "## 데이터 전처리"
   ]
  },
  {
   "cell_type": "code",
   "execution_count": 4,
   "id": "35d6d811",
   "metadata": {},
   "outputs": [
    {
     "name": "stdout",
     "output_type": "stream",
     "text": [
      "<start> this is sample sentence . <end>\n"
     ]
    }
   ],
   "source": [
    "#     1. 소문자로 바꾸고, 양쪽 공백을 지웁니다\n",
    "#     2. 특수문자 양쪽에 공백을 넣고\n",
    "#     3. 여러개의 공백은 하나의 공백으로 바꿉니다\n",
    "#     4. a-zA-Z?.!,¿가 아닌 모든 문자를 하나의 공백으로 바꿉니다\n",
    "#     5. 다시 양쪽 공백을 지웁니다\n",
    "#     6. 문장 시작에는 <start>, 끝에는 <end>를 추가합니다\n",
    "# 이 순서로 처리해주면 문제가 되는 상황을 방지할 수 있겠네요!\n",
    "def preprocess_sentence(sentence):\n",
    "    sentence = sentence.lower().strip() # 1\n",
    "    sentence = re.sub(r\"([?.!,¿])\", r\" \\1 \", sentence) # 2\n",
    "    sentence = re.sub(r'[\" \"]+', \" \", sentence) # 3\n",
    "    sentence = re.sub(r\"[^a-zA-Z?.!,¿]+\", \" \", sentence) # 4\n",
    "    sentence = sentence.strip() # 5\n",
    "    sentence = '<start> ' + sentence + ' <end>' # 6\n",
    "    return sentence\n",
    "\n",
    "# 이 문장이 어떻게 필터링되는지 확인해 보세요.\n",
    "print(preprocess_sentence(\"This @_is ;;;sample        sentence.\"))"
   ]
  },
  {
   "cell_type": "code",
   "execution_count": 5,
   "id": "8e357a05",
   "metadata": {},
   "outputs": [
    {
     "data": {
      "text/plain": [
       "['<start> now i ve heard there was a secret chord <end>',\n",
       " '<start> that david played , and it pleased the lord <end>',\n",
       " '<start> but you don t really care for music , do you ? <end>',\n",
       " '<start> it goes like this <end>',\n",
       " '<start> the fourth , the fifth <end>',\n",
       " '<start> the minor fall , the major lift <end>',\n",
       " '<start> the baffled king composing hallelujah hallelujah <end>',\n",
       " '<start> hallelujah <end>',\n",
       " '<start> hallelujah <end>',\n",
       " '<start> hallelujah your faith was strong but you needed proof <end>']"
      ]
     },
     "execution_count": 5,
     "metadata": {},
     "output_type": "execute_result"
    }
   ],
   "source": [
    "corpus = []\n",
    "\n",
    "for sentence in raw_corpus:\n",
    "    # 원하지 않는 문장은 건너뛰기\n",
    "    if len(sentence) == 0: continue\n",
    "    if sentence[-1] == \":\": continue\n",
    "    preprocessed_sentence = preprocess_sentence(sentence)\n",
    "    corpus.append(preprocessed_sentence)\n",
    "        \n",
    "# 정제된 결과를 10개만 확인\n",
    "corpus[:10]"
   ]
  },
  {
   "cell_type": "markdown",
   "id": "e9e02a5c",
   "metadata": {},
   "source": [
    "## 토큰화"
   ]
  },
  {
   "cell_type": "code",
   "execution_count": 6,
   "id": "19fb7ea6",
   "metadata": {},
   "outputs": [
    {
     "name": "stdout",
     "output_type": "stream",
     "text": [
      "[[   2   50    5 ...    0    0    0]\n",
      " [   2   17 2639 ...    0    0    0]\n",
      " [   2   36    7 ...   43    3    0]\n",
      " ...\n",
      " [   5   22    9 ...   10 1013    3]\n",
      " [  37   15    1 ...  877  647    3]\n",
      " [   2    7   34 ...    0    0    0]] <keras_preprocessing.text.Tokenizer object at 0x7f14547c9a60>\n"
     ]
    }
   ],
   "source": [
    "def tokenize(corpus):\n",
    "    # 7000단어를 기억할 수 있는 tokenizer를 만들겁니다\n",
    "    # 우리는 이미 문장을 정제했으니 filters가 필요없어요\n",
    "    # 7000단어에 포함되지 못한 단어는 '<unk>'로 바꿀거에요\n",
    "    tokenizer = tf.keras.preprocessing.text.Tokenizer(\n",
    "        num_words=7000, \n",
    "        filters=' ',\n",
    "        oov_token=\"<unk>\"\n",
    "    )\n",
    "    # corpus를 이용해 tokenizer 내부의 단어장을 완성합니다\n",
    "    tokenizer.fit_on_texts(corpus)\n",
    "    # tokenizer로 corpus를 tensor로 변환\n",
    "    tensor = tokenizer.texts_to_sequences(corpus)   \n",
    "    # 입력 데이터의 시퀀스 길이를 일정하게 맞춰줍니다\n",
    "    # 만약 시퀀스가 짧다면 문장 뒤에 패딩을 붙여 길이를 맞춰줍니다.\n",
    "    # 문장 앞에 패딩을 붙여 길이를 맞추고 싶다면 padding='pre'를 사용합니다\n",
    "    tensor = tf.keras.preprocessing.sequence.pad_sequences(tensor,maxlen=15, padding='post')  # maxlen = idx와 값을맞춤\n",
    "    \n",
    "    print(tensor,tokenizer)\n",
    "    return tensor, tokenizer\n",
    "\n",
    "tensor, tokenizer = tokenize(corpus)"
   ]
  },
  {
   "cell_type": "code",
   "execution_count": 7,
   "id": "a7f819a2",
   "metadata": {},
   "outputs": [
    {
     "name": "stdout",
     "output_type": "stream",
     "text": [
      "[[   2   50    5   91  297   65   57    9  969 6042]\n",
      " [   2   17 2639  873    4    8   11 6043    6  329]\n",
      " [   2   36    7   37   15  164  282   28  299    4]]\n"
     ]
    }
   ],
   "source": [
    "print(tensor[:3, :10]) # 3번째행 10번째열까지 출력, 모든tensor data는 정수"
   ]
  },
  {
   "cell_type": "code",
   "execution_count": 8,
   "id": "f55fb372",
   "metadata": {},
   "outputs": [
    {
     "name": "stdout",
     "output_type": "stream",
     "text": [
      "1 : <unk>\n",
      "2 : <start>\n",
      "3 : <end>\n",
      "4 : ,\n",
      "5 : i\n",
      "6 : the\n",
      "7 : you\n",
      "8 : and\n",
      "9 : a\n",
      "10 : to\n"
     ]
    }
   ],
   "source": [
    "for idx in tokenizer.index_word:\n",
    "    print(idx, \":\", tokenizer.index_word[idx])\n",
    "\n",
    "    if idx >= 10: break"
   ]
  },
  {
   "cell_type": "code",
   "execution_count": 9,
   "id": "a74f34ff",
   "metadata": {},
   "outputs": [
    {
     "name": "stdout",
     "output_type": "stream",
     "text": [
      "[   2   50    5   91  297   65   57    9  969 6042    3    0    0    0]\n",
      "[  50    5   91  297   65   57    9  969 6042    3    0    0    0    0]\n"
     ]
    }
   ],
   "source": [
    "# tensor에서 마지막 토큰을 잘라내서 소스 문장을 생성합니다\n",
    "# 마지막 토큰은 <end>가 아니라 <pad>일 가능성이 높습니다.\n",
    "src_input = tensor[:, :-1]  \n",
    "# tensor에서 <start>를 잘라내서 타겟 문장을 생성합니다.\n",
    "tgt_input = tensor[:, 1:]    \n",
    "\n",
    "# 0 = pad\n",
    "\n",
    "print(src_input[0])\n",
    "print(tgt_input[0])"
   ]
  },
  {
   "cell_type": "code",
   "execution_count": 10,
   "id": "fbc127d1",
   "metadata": {},
   "outputs": [
    {
     "data": {
      "text/plain": [
       "<BatchDataset shapes: ((256, 14), (256, 14)), types: (tf.int32, tf.int32)>"
      ]
     },
     "execution_count": 10,
     "metadata": {},
     "output_type": "execute_result"
    }
   ],
   "source": [
    "BUFFER_SIZE = len(src_input)\n",
    "BATCH_SIZE = 256\n",
    "steps_per_epoch = len(src_input) // BATCH_SIZE\n",
    "\n",
    "VOCAB_SIZE = tokenizer.num_words + 1   \n",
    "\n",
    "dataset = tf.data.Dataset.from_tensor_slices((src_input, tgt_input))\n",
    "dataset = dataset.shuffle(BUFFER_SIZE)\n",
    "dataset = dataset.batch(BATCH_SIZE, drop_remainder=True)\n",
    "dataset"
   ]
  },
  {
   "cell_type": "markdown",
   "id": "1f647cfb",
   "metadata": {},
   "source": [
    "## 데이터셋 분리시키기"
   ]
  },
  {
   "cell_type": "code",
   "execution_count": 11,
   "id": "6305d53d",
   "metadata": {},
   "outputs": [],
   "source": [
    "enc_train, enc_val, dec_train, dec_val = train_test_split(\n",
    "    src_input,\n",
    "    tgt_input,\n",
    "    test_size=0.2,\n",
    "    random_state=42,\n",
    ") "
   ]
  },
  {
   "cell_type": "code",
   "execution_count": 12,
   "id": "110a7e0c",
   "metadata": {},
   "outputs": [
    {
     "data": {
      "text/plain": [
       "<BatchDataset shapes: ((256, 14), (256, 14)), types: (tf.int32, tf.int32)>"
      ]
     },
     "execution_count": 12,
     "metadata": {},
     "output_type": "execute_result"
    }
   ],
   "source": [
    "BUFFER_SIZE = len(src_input)\n",
    "BATCH_SIZE = 256\n",
    "steps_per_epoch = len(src_input) // BATCH_SIZE\n",
    "\n",
    "VOCAB_SIZE = tokenizer.num_words + 1   \n",
    "\n",
    "dataset = tf.data.Dataset.from_tensor_slices((src_input, tgt_input))\n",
    "dataset = dataset.shuffle(BUFFER_SIZE)\n",
    "dataset = dataset.batch(BATCH_SIZE, drop_remainder=True)\n",
    "dataset"
   ]
  },
  {
   "cell_type": "markdown",
   "id": "3fe899ce",
   "metadata": {},
   "source": [
    "## 학습시키기"
   ]
  },
  {
   "cell_type": "code",
   "execution_count": 13,
   "id": "b1865e99",
   "metadata": {},
   "outputs": [],
   "source": [
    "class TextGenerator(tf.keras.Model):\n",
    "    def __init__(self, vocab_size, embedding_size, hidden_size):\n",
    "        super().__init__()\n",
    "        \n",
    "        self.embedding = tf.keras.layers.Embedding(vocab_size, embedding_size)\n",
    "        self.rnn_1 = tf.keras.layers.LSTM(hidden_size, return_sequences=True)\n",
    "        self.rnn_2 = tf.keras.layers.LSTM(hidden_size, return_sequences=True)\n",
    "        self.linear = tf.keras.layers.Dense(vocab_size)\n",
    "        \n",
    "    def call(self, x):\n",
    "        out = self.embedding(x)\n",
    "        out = self.rnn_1(out)\n",
    "        out = self.rnn_2(out)\n",
    "        out = self.linear(out)\n",
    "        \n",
    "        return out\n",
    "    \n",
    "embedding_size = 256 # 워드벡터의 차원수\n",
    "hidden_size = 1024 # 높을수록 모델의 작업속도가 빠름\n",
    "model = TextGenerator(tokenizer.num_words + 1, embedding_size , hidden_size)"
   ]
  },
  {
   "cell_type": "code",
   "execution_count": 14,
   "id": "935139b1",
   "metadata": {},
   "outputs": [
    {
     "data": {
      "text/plain": [
       "<tf.Tensor: shape=(256, 14, 7001), dtype=float32, numpy=\n",
       "array([[[-2.68341013e-04,  5.13004379e-05,  1.55602334e-04, ...,\n",
       "         -2.60640547e-04,  1.31626381e-04,  1.06787076e-04],\n",
       "        [-3.77414050e-04,  4.21747536e-05,  5.61459281e-04, ...,\n",
       "         -4.95915127e-04,  4.66445024e-04,  4.11759276e-04],\n",
       "        [-1.33234353e-04, -1.13021961e-05,  6.14975404e-04, ...,\n",
       "         -5.78329258e-04,  2.65567156e-04,  3.97332798e-04],\n",
       "        ...,\n",
       "        [-4.61301570e-05, -4.53706802e-04,  6.60907361e-04, ...,\n",
       "         -4.39906726e-04, -5.63377223e-04,  2.43716218e-04],\n",
       "        [ 7.13967393e-06, -9.51254260e-05,  1.28628779e-03, ...,\n",
       "         -6.36950601e-04, -1.64129597e-04,  2.09084654e-04],\n",
       "        [ 2.75195373e-04,  2.93882709e-04,  1.68809085e-03, ...,\n",
       "         -7.39912328e-04,  2.77342886e-04, -1.19585486e-04]],\n",
       "\n",
       "       [[-2.68341013e-04,  5.13004379e-05,  1.55602334e-04, ...,\n",
       "         -2.60640547e-04,  1.31626381e-04,  1.06787076e-04],\n",
       "        [-5.17839682e-04,  9.26501525e-06,  3.76531185e-04, ...,\n",
       "         -2.64474045e-04,  3.41881561e-04,  2.33711718e-04],\n",
       "        [-7.61643692e-04, -1.22725760e-04,  2.69515091e-04, ...,\n",
       "         -2.43472008e-04,  3.67041590e-04,  7.02176476e-05],\n",
       "        ...,\n",
       "        [-1.29005246e-04, -6.93152615e-05,  3.90046596e-04, ...,\n",
       "          1.61127857e-04,  7.79005757e-04, -9.79392062e-05],\n",
       "        [ 2.60685658e-04,  1.62976052e-04,  6.10841729e-04, ...,\n",
       "          1.55691057e-04,  1.00344047e-03, -5.46704105e-04],\n",
       "        [ 7.37609575e-04,  3.56906909e-04,  8.29865632e-04, ...,\n",
       "          8.63058231e-05,  1.29533350e-03, -1.08552771e-03]],\n",
       "\n",
       "       [[-2.68341013e-04,  5.13004379e-05,  1.55602334e-04, ...,\n",
       "         -2.60640547e-04,  1.31626381e-04,  1.06787076e-04],\n",
       "        [-2.92164099e-04, -1.07452164e-04,  1.03079794e-04, ...,\n",
       "         -5.60982851e-04,  5.24617790e-04,  4.70634433e-04],\n",
       "        [-2.22962539e-04, -5.85721718e-05, -9.48464640e-06, ...,\n",
       "         -4.48819133e-04,  6.14609511e-04,  3.03902110e-04],\n",
       "        ...,\n",
       "        [ 6.49505702e-04,  7.39963958e-04, -6.37433899e-04, ...,\n",
       "         -1.45698455e-03,  1.72297913e-03, -9.80959740e-04],\n",
       "        [ 6.03455817e-04,  7.81399896e-04, -6.59733138e-04, ...,\n",
       "         -1.13714626e-03,  1.19118497e-03, -1.38117489e-03],\n",
       "        [ 5.06040175e-04,  8.78587307e-04, -5.67969342e-04, ...,\n",
       "         -1.00144057e-03,  1.18835515e-03, -1.46564655e-03]],\n",
       "\n",
       "       ...,\n",
       "\n",
       "       [[-2.68341013e-04,  5.13004379e-05,  1.55602334e-04, ...,\n",
       "         -2.60640547e-04,  1.31626381e-04,  1.06787076e-04],\n",
       "        [-3.59233236e-04,  1.00135607e-04,  5.13793260e-04, ...,\n",
       "         -5.18385204e-04,  1.34808215e-04,  4.31830500e-04],\n",
       "        [-2.56211497e-04, -3.45765176e-04,  8.46246898e-04, ...,\n",
       "         -1.20926998e-03, -2.24240375e-05,  7.87573284e-04],\n",
       "        ...,\n",
       "        [-1.14612537e-03, -8.16853892e-04, -1.08106271e-03, ...,\n",
       "          4.38603485e-04, -2.63560168e-03,  1.69137644e-03],\n",
       "        [-1.24487316e-03, -7.39171926e-04, -5.89779869e-04, ...,\n",
       "          3.60212201e-04, -2.59424583e-03,  1.65545894e-03],\n",
       "        [-1.21124822e-03, -2.43398841e-04,  1.21145313e-04, ...,\n",
       "          2.60832981e-04, -2.28303554e-03,  1.55189296e-03]],\n",
       "\n",
       "       [[-2.68341013e-04,  5.13004379e-05,  1.55602334e-04, ...,\n",
       "         -2.60640547e-04,  1.31626381e-04,  1.06787076e-04],\n",
       "        [-1.24776707e-04,  3.48942485e-05, -5.05140088e-05, ...,\n",
       "         -1.27859908e-04,  1.72040716e-04,  6.78362267e-05],\n",
       "        [ 3.91878020e-05,  1.02529935e-04,  4.95843778e-05, ...,\n",
       "          2.76218652e-05,  2.38473702e-04,  5.41729496e-05],\n",
       "        ...,\n",
       "        [ 5.28023345e-04,  1.02718186e-03,  4.37353418e-04, ...,\n",
       "          1.16824626e-03,  1.04694546e-03, -4.86997131e-04],\n",
       "        [ 9.60429315e-04,  1.20815996e-03,  7.73293723e-04, ...,\n",
       "          9.50245943e-04,  1.31254701e-03, -1.05393922e-03],\n",
       "        [ 1.40741549e-03,  1.30906119e-03,  1.10282062e-03, ...,\n",
       "          6.85455510e-04,  1.56764314e-03, -1.60837278e-03]],\n",
       "\n",
       "       [[-2.68341013e-04,  5.13004379e-05,  1.55602334e-04, ...,\n",
       "         -2.60640547e-04,  1.31626381e-04,  1.06787076e-04],\n",
       "        [-3.67269327e-04,  3.91701142e-05,  1.33491354e-04, ...,\n",
       "          1.47826300e-04,  1.18305934e-05,  2.83899310e-04],\n",
       "        [-3.51889117e-04,  1.06895277e-05, -1.19574986e-04, ...,\n",
       "          5.87910414e-04, -9.84854851e-05,  9.53687413e-05],\n",
       "        ...,\n",
       "        [ 1.75660709e-03,  1.31589384e-03,  2.00629607e-03, ...,\n",
       "         -8.75604237e-05,  8.04109441e-04, -1.36250153e-03],\n",
       "        [ 2.20873300e-03,  1.46667741e-03,  2.19904142e-03, ...,\n",
       "         -2.95087695e-04,  1.18073239e-03, -1.83159008e-03],\n",
       "        [ 2.60730227e-03,  1.54272176e-03,  2.36910605e-03, ...,\n",
       "         -4.99886810e-04,  1.53484975e-03, -2.26598117e-03]]],\n",
       "      dtype=float32)>"
      ]
     },
     "execution_count": 14,
     "metadata": {},
     "output_type": "execute_result"
    }
   ],
   "source": [
    "# 데이터셋에서 데이터 한 배치만 불러오는 방법\n",
    "for src_sample, tgt_sample in dataset.take(1): break\n",
    "# 한 배치만 불러온 데이터를 모델에 넣기\n",
    "model(src_sample)"
   ]
  },
  {
   "cell_type": "code",
   "execution_count": 15,
   "id": "64624349",
   "metadata": {},
   "outputs": [
    {
     "name": "stdout",
     "output_type": "stream",
     "text": [
      "Model: \"text_generator\"\n",
      "_________________________________________________________________\n",
      "Layer (type)                 Output Shape              Param #   \n",
      "=================================================================\n",
      "embedding (Embedding)        multiple                  1792256   \n",
      "_________________________________________________________________\n",
      "lstm (LSTM)                  multiple                  5246976   \n",
      "_________________________________________________________________\n",
      "lstm_1 (LSTM)                multiple                  8392704   \n",
      "_________________________________________________________________\n",
      "dense (Dense)                multiple                  7176025   \n",
      "=================================================================\n",
      "Total params: 22,607,961\n",
      "Trainable params: 22,607,961\n",
      "Non-trainable params: 0\n",
      "_________________________________________________________________\n"
     ]
    }
   ],
   "source": [
    "model.summary()"
   ]
  },
  {
   "cell_type": "code",
   "execution_count": 16,
   "id": "bb956b65",
   "metadata": {},
   "outputs": [
    {
     "name": "stdout",
     "output_type": "stream",
     "text": [
      "Epoch 1/10\n",
      "686/686 [==============================] - 89s 127ms/step - loss: 3.5064\n",
      "Epoch 2/10\n",
      "686/686 [==============================] - 94s 136ms/step - loss: 2.9875\n",
      "Epoch 3/10\n",
      "686/686 [==============================] - 94s 137ms/step - loss: 2.7837\n",
      "Epoch 4/10\n",
      "686/686 [==============================] - 94s 136ms/step - loss: 2.6219\n",
      "Epoch 5/10\n",
      "686/686 [==============================] - 94s 136ms/step - loss: 2.4778\n",
      "Epoch 6/10\n",
      "686/686 [==============================] - 94s 136ms/step - loss: 2.3428\n",
      "Epoch 7/10\n",
      "686/686 [==============================] - 94s 136ms/step - loss: 2.2142\n",
      "Epoch 8/10\n",
      "686/686 [==============================] - 94s 136ms/step - loss: 2.0908\n",
      "Epoch 9/10\n",
      "686/686 [==============================] - 94s 137ms/step - loss: 1.9712\n",
      "Epoch 10/10\n",
      "686/686 [==============================] - 94s 136ms/step - loss: 1.8548\n"
     ]
    },
    {
     "data": {
      "text/plain": [
       "<keras.callbacks.History at 0x7f13b90c6b80>"
      ]
     },
     "execution_count": 16,
     "metadata": {},
     "output_type": "execute_result"
    }
   ],
   "source": [
    "optimizer = tf.keras.optimizers.Adam()\n",
    "loss = tf.keras.losses.SparseCategoricalCrossentropy(\n",
    "    from_logits=True,\n",
    "    reduction='none'\n",
    ")\n",
    "\n",
    "model.compile(loss=loss, optimizer=optimizer)\n",
    "model.fit(dataset, epochs=10)"
   ]
  },
  {
   "cell_type": "markdown",
   "id": "5d393a1b",
   "metadata": {},
   "source": [
    "## 모델 평가하기"
   ]
  },
  {
   "cell_type": "code",
   "execution_count": 17,
   "id": "16abafe8",
   "metadata": {},
   "outputs": [],
   "source": [
    "def generate_text(model, tokenizer, init_sentence=\"<start>\", max_len=20):\n",
    "    # 테스트를 위해서 입력받은 init_sentence도 텐서로 변환합니다\n",
    "    test_input = tokenizer.texts_to_sequences([init_sentence])\n",
    "    test_tensor = tf.convert_to_tensor(test_input, dtype=tf.int64)\n",
    "    end_token = tokenizer.word_index[\"<end>\"]\n",
    "\n",
    "    while True:\n",
    "        \n",
    "        predict = model(test_tensor)  #    1. 입력받은 문장의 텐서를 입력합니다\n",
    "        \n",
    "        predict_word = tf.argmax(tf.nn.softmax(predict, axis=-1), axis=-1)[:, -1] #    2. 예측된 값 중 가장 높은 확률인 word index를 뽑아냅니다\n",
    "        \n",
    "        test_tensor = tf.concat([test_tensor, tf.expand_dims(predict_word, axis=0)], axis=-1) #    3. 2에서 예측된 word index를 문장 뒤에 붙입니다\n",
    "       \n",
    "    # 4. 모델이 <end>를 예측했거나, max_len에 도달했다면 문장 생성을 마칩니다\n",
    "        if predict_word.numpy()[0] == end_token: break\n",
    "        if test_tensor.shape[1] >= max_len: break\n",
    "\n",
    "    generated = \"\"\n",
    "    # tokenizer를 이용해 word index를 단어로 하나씩 변환 \n",
    "    for word_index in test_tensor[0].numpy():\n",
    "        generated += tokenizer.index_word[word_index] + \" \"\n",
    "\n",
    "    return generated"
   ]
  },
  {
   "cell_type": "markdown",
   "id": "f49b8cc0",
   "metadata": {},
   "source": [
    "## 가사출력"
   ]
  },
  {
   "cell_type": "code",
   "execution_count": 18,
   "id": "603d86db",
   "metadata": {},
   "outputs": [
    {
     "data": {
      "text/plain": [
       "'<start> he s a monster <end> '"
      ]
     },
     "execution_count": 18,
     "metadata": {},
     "output_type": "execute_result"
    }
   ],
   "source": [
    "generate_text(model, tokenizer, init_sentence=\"<start> he\")"
   ]
  }
 ],
 "metadata": {
  "kernelspec": {
   "display_name": "Python 3 (ipykernel)",
   "language": "python",
   "name": "python3"
  },
  "language_info": {
   "codemirror_mode": {
    "name": "ipython",
    "version": 3
   },
   "file_extension": ".py",
   "mimetype": "text/x-python",
   "name": "python",
   "nbconvert_exporter": "python",
   "pygments_lexer": "ipython3",
   "version": "3.9.7"
  }
 },
 "nbformat": 4,
 "nbformat_minor": 5
}
