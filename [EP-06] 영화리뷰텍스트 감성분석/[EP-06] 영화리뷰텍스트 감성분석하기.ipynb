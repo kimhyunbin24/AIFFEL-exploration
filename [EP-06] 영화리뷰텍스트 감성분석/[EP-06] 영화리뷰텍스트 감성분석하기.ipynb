{
 "cells": [
  {
   "cell_type": "code",
   "execution_count": 1,
   "id": "5409df4d",
   "metadata": {},
   "outputs": [
    {
     "data": {
      "text/html": [
       "<div>\n",
       "<style scoped>\n",
       "    .dataframe tbody tr th:only-of-type {\n",
       "        vertical-align: middle;\n",
       "    }\n",
       "\n",
       "    .dataframe tbody tr th {\n",
       "        vertical-align: top;\n",
       "    }\n",
       "\n",
       "    .dataframe thead th {\n",
       "        text-align: right;\n",
       "    }\n",
       "</style>\n",
       "<table border=\"1\" class=\"dataframe\">\n",
       "  <thead>\n",
       "    <tr style=\"text-align: right;\">\n",
       "      <th></th>\n",
       "      <th>id</th>\n",
       "      <th>document</th>\n",
       "      <th>label</th>\n",
       "    </tr>\n",
       "  </thead>\n",
       "  <tbody>\n",
       "    <tr>\n",
       "      <th>0</th>\n",
       "      <td>9976970</td>\n",
       "      <td>아 더빙.. 진짜 짜증나네요 목소리</td>\n",
       "      <td>0</td>\n",
       "    </tr>\n",
       "    <tr>\n",
       "      <th>1</th>\n",
       "      <td>3819312</td>\n",
       "      <td>흠...포스터보고 초딩영화줄....오버연기조차 가볍지 않구나</td>\n",
       "      <td>1</td>\n",
       "    </tr>\n",
       "    <tr>\n",
       "      <th>2</th>\n",
       "      <td>10265843</td>\n",
       "      <td>너무재밓었다그래서보는것을추천한다</td>\n",
       "      <td>0</td>\n",
       "    </tr>\n",
       "    <tr>\n",
       "      <th>3</th>\n",
       "      <td>9045019</td>\n",
       "      <td>교도소 이야기구먼 ..솔직히 재미는 없다..평점 조정</td>\n",
       "      <td>0</td>\n",
       "    </tr>\n",
       "    <tr>\n",
       "      <th>4</th>\n",
       "      <td>6483659</td>\n",
       "      <td>사이몬페그의 익살스런 연기가 돋보였던 영화!스파이더맨에서 늙어보이기만 했던 커스틴 ...</td>\n",
       "      <td>1</td>\n",
       "    </tr>\n",
       "  </tbody>\n",
       "</table>\n",
       "</div>"
      ],
      "text/plain": [
       "         id                                           document  label\n",
       "0   9976970                                아 더빙.. 진짜 짜증나네요 목소리      0\n",
       "1   3819312                  흠...포스터보고 초딩영화줄....오버연기조차 가볍지 않구나      1\n",
       "2  10265843                                  너무재밓었다그래서보는것을추천한다      0\n",
       "3   9045019                      교도소 이야기구먼 ..솔직히 재미는 없다..평점 조정      0\n",
       "4   6483659  사이몬페그의 익살스런 연기가 돋보였던 영화!스파이더맨에서 늙어보이기만 했던 커스틴 ...      1"
      ]
     },
     "execution_count": 1,
     "metadata": {},
     "output_type": "execute_result"
    }
   ],
   "source": [
    "import pandas as pd\n",
    "import tensorflow as tf\n",
    "from tensorflow import keras\n",
    "from tensorflow.keras.preprocessing.text import Tokenizer\n",
    "from tensorflow.keras.preprocessing.sequence import pad_sequences\n",
    "import urllib.request\n",
    "%matplotlib inline\n",
    "import matplotlib.pyplot as plt\n",
    "import re\n",
    "import os\n",
    " \n",
    "train_data = pd.read_table('~/aiffel/senti/ratings_train.txt')\n",
    "test_data = pd.read_table('~/aiffel/senti/ratings_test.txt')\n",
    "\n",
    "train_data.head()\n"
   ]
  },
  {
   "cell_type": "markdown",
   "id": "3375434c",
   "metadata": {},
   "source": [
    "## 데이터로더 구성"
   ]
  },
  {
   "cell_type": "code",
   "execution_count": 2,
   "id": "5f7353f8",
   "metadata": {},
   "outputs": [],
   "source": [
    "from konlpy.tag import Mecab\n",
    "import numpy as np\n",
    "from collections import Counter\n",
    "\n",
    "tokenizer = Mecab()\n",
    "stopwords = ['의','가','이','은','들','는','좀','잘','걍','과','도','를','으로','자','에','와','한','하다']\n",
    "\n",
    "def load_data(train_data, test_data, num_words=10000):\n",
    "    train_data.drop_duplicates(subset=['document'], inplace=True)\n",
    "    train_data = train_data.dropna(how = 'any') \n",
    "    test_data.drop_duplicates(subset=['document'], inplace=True)\n",
    "    test_data = test_data.dropna(how = 'any')\n",
    "    \n",
    "    X_train = []\n",
    "    for sentence in train_data['document']:\n",
    "        temp_X = tokenizer.morphs(sentence) # 토큰화\n",
    "        temp_X = [word for word in temp_X if not word in stopwords] # 불용어 제거\n",
    "        X_train.append(temp_X)\n",
    "\n",
    "    X_test = []\n",
    "    for sentence in test_data['document']:\n",
    "        temp_X = tokenizer.morphs(sentence) # 토큰화\n",
    "        temp_X = [word for word in temp_X if not word in stopwords] # 불용어 제거\n",
    "        X_test.append(temp_X)\n",
    "\n",
    "    words = np.concatenate(X_train).tolist()\n",
    "    counter = Counter(words)\n",
    "    counter = counter.most_common(10000-4)\n",
    "    vocab = ['<PAD>', '<BOS>', '<UNK>', '<UNUSED>'] + [key for key, _ in counter]\n",
    "    word_to_index = {word:index for index, word in enumerate(vocab)}\n",
    "\n",
    "    def wordlist_to_indexlist(wordlist):\n",
    "        return [word_to_index[word] if word in word_to_index else word_to_index['<UNK>'] for word in wordlist]\n",
    "\n",
    "    X_train = list(map(wordlist_to_indexlist, X_train))\n",
    "    X_test = list(map(wordlist_to_indexlist, X_test))\n",
    "\n",
    "    return X_train, np.array(list(train_data['label'])), X_test, np.array(list(test_data['label'])), word_to_index\n",
    "    \n",
    "x_train, y_train, x_test, y_test, word_to_index = load_data(train_data, test_data) "
   ]
  },
  {
   "cell_type": "code",
   "execution_count": 3,
   "id": "3c36856c",
   "metadata": {},
   "outputs": [],
   "source": [
    "index_to_word = {index:word for word, index in word_to_index.items()}"
   ]
  },
  {
   "cell_type": "code",
   "execution_count": 4,
   "id": "95e6d443",
   "metadata": {},
   "outputs": [],
   "source": [
    "# 문장 1개를 활용할 딕셔너리와 함께 주면, 단어 인덱스 리스트 벡터로 변환해 주는 함수입니다. \n",
    "# 단, 모든 문장은 <BOS>로 시작하는 것으로 합니다. \n",
    "def get_encoded_sentence(sentence, word_to_index):\n",
    "    return [word_to_index['<BOS>']]+[word_to_index[word] if word in word_to_index else word_to_index['<UNK>'] for word in sentence.split()]\n",
    "\n",
    "# 여러 개의 문장 리스트를 한꺼번에 단어 인덱스 리스트 벡터로 encode해 주는 함수입니다. \n",
    "def get_encoded_sentences(sentences, word_to_index):\n",
    "    return [get_encoded_sentence(sentence, word_to_index) for sentence in sentences]\n",
    "\n",
    "# 숫자 벡터로 encode된 문장을 원래대로 decode하는 함수입니다. \n",
    "def get_decoded_sentence(encoded_sentence, index_to_word):\n",
    "    return ' '.join(index_to_word[index] if index in index_to_word else '<UNK>' for index in encoded_sentence[1:])  #[1:]를 통해 <BOS>를 제외\n",
    "\n",
    "# 여러 개의 숫자 벡터로 encode된 문장을 한꺼번에 원래대로 decode하는 함수입니다. \n",
    "def get_decoded_sentences(encoded_sentences, index_to_word):\n",
    "    return [get_decoded_sentence(encoded_sentence, index_to_word) for encoded_sentence in encoded_sentences]"
   ]
  },
  {
   "cell_type": "markdown",
   "id": "b8a638be",
   "metadata": {},
   "source": [
    "## 모델 구성을 위한 데이터 분석 및 가공"
   ]
  },
  {
   "cell_type": "code",
   "execution_count": 5,
   "id": "c2cc1ef1",
   "metadata": {},
   "outputs": [
    {
     "name": "stdout",
     "output_type": "stream",
     "text": [
      "[32, 74, 919, 4, 4, 39, 228, 20, 33, 748]\n",
      "라벨:  0\n",
      "1번째 리뷰 문장 길이:  10\n",
      "2번째 리뷰 문장 길이:  17\n"
     ]
    }
   ],
   "source": [
    "# 라벨확인\n",
    "\n",
    "print(x_train[0])  # 1번째 리뷰데이터\n",
    "print('라벨: ', y_train[0])  # 1번째 리뷰데이터의 라벨\n",
    "print('1번째 리뷰 문장 길이: ', len(x_train[0]))\n",
    "print('2번째 리뷰 문장 길이: ', len(x_train[1]))"
   ]
  },
  {
   "cell_type": "code",
   "execution_count": 6,
   "id": "10980106",
   "metadata": {},
   "outputs": [
    {
     "name": "stdout",
     "output_type": "stream",
     "text": [
      "문장길이 평균 :  15.96940191154864\n",
      "문장길이 최대 :  116\n",
      "문장길이 표준편차 :  12.843571191092\n"
     ]
    }
   ],
   "source": [
    "# 데이터셋 내 문장 길이 분포 확인\n",
    "\n",
    "total_data_text = list(x_train) + list(x_test)\n",
    "num_tokens = [len(tokens) for tokens in total_data_text]\n",
    "num_tokens = np.array(num_tokens)\n",
    "print('문장길이 평균 : ', np.mean(num_tokens))\n",
    "print('문장길이 최대 : ', np.max(num_tokens))\n",
    "print('문장길이 표준편차 : ', np.std(num_tokens))"
   ]
  },
  {
   "cell_type": "code",
   "execution_count": 7,
   "id": "97da9228",
   "metadata": {},
   "outputs": [
    {
     "name": "stdout",
     "output_type": "stream",
     "text": [
      "pad_sequences maxlen :  41\n",
      "전체 문장의 0.9342988343341575%가 maxlen 설정값 이내에 포함됩니다. \n"
     ]
    }
   ],
   "source": [
    "# 적절한 최대 문장길이 지정\n",
    "\n",
    "max_tokens = np.mean(num_tokens) + 2 * np.std(num_tokens)\n",
    "maxlen = int(max_tokens)\n",
    "print('pad_sequences maxlen : ', maxlen)\n",
    "print('전체 문장의 {}%가 maxlen 설정값 이내에 포함됩니다. '.format(np.sum(num_tokens < max_tokens) / len(num_tokens)))"
   ]
  },
  {
   "cell_type": "code",
   "execution_count": 8,
   "id": "c1aa870a",
   "metadata": {},
   "outputs": [
    {
     "name": "stdout",
     "output_type": "stream",
     "text": [
      "(146182, 41)\n"
     ]
    }
   ],
   "source": [
    "x_train = tf.keras.preprocessing.sequence.pad_sequences(x_train,\n",
    "                                                        value=word_to_index[\"<PAD>\"],\n",
    "                                                        padding='post', # 혹은 'pre'\n",
    "                                                        maxlen=maxlen)\n",
    "\n",
    "x_test = tf.keras.preprocessing.sequence.pad_sequences(x_test,\n",
    "                                                       value=word_to_index[\"<PAD>\"],\n",
    "                                                       padding='post', # 혹은 'pre'\n",
    "                                                       maxlen=maxlen)\n",
    "\n",
    "print(x_train.shape)"
   ]
  },
  {
   "cell_type": "markdown",
   "id": "1b4c6752",
   "metadata": {},
   "source": [
    "## 모델 구성 및 validation set 구성"
   ]
  },
  {
   "cell_type": "code",
   "execution_count": 9,
   "id": "1d1a5edf",
   "metadata": {},
   "outputs": [
    {
     "name": "stdout",
     "output_type": "stream",
     "text": [
      "Model: \"sequential\"\n",
      "_________________________________________________________________\n",
      "Layer (type)                 Output Shape              Param #   \n",
      "=================================================================\n",
      "embedding (Embedding)        (None, None, 16)          160000    \n",
      "_________________________________________________________________\n",
      "conv1d (Conv1D)              (None, None, 16)          1808      \n",
      "_________________________________________________________________\n",
      "max_pooling1d (MaxPooling1D) (None, None, 16)          0         \n",
      "_________________________________________________________________\n",
      "conv1d_1 (Conv1D)            (None, None, 16)          1808      \n",
      "_________________________________________________________________\n",
      "global_max_pooling1d (Global (None, 16)                0         \n",
      "_________________________________________________________________\n",
      "dense (Dense)                (None, 8)                 136       \n",
      "_________________________________________________________________\n",
      "dense_1 (Dense)              (None, 1)                 9         \n",
      "=================================================================\n",
      "Total params: 163,761\n",
      "Trainable params: 163,761\n",
      "Non-trainable params: 0\n",
      "_________________________________________________________________\n"
     ]
    }
   ],
   "source": [
    "vocab_size = 10000    # 어휘 사전의 크기(10,000개의 단어)\n",
    "word_vector_dim = 16  # 워드 벡터의 차원 수 (변경 가능한 하이퍼파라미터)\n",
    "\n",
    "model = tf.keras.Sequential()\n",
    "model.add(tf.keras.layers.Embedding(vocab_size, word_vector_dim, input_shape=(None,)))\n",
    "model.add(tf.keras.layers.Conv1D(16, 7, activation='relu'))\n",
    "model.add(tf.keras.layers.MaxPooling1D(5))\n",
    "model.add(tf.keras.layers.Conv1D(16, 7, activation='relu'))\n",
    "model.add(tf.keras.layers.GlobalMaxPooling1D())\n",
    "model.add(tf.keras.layers.Dense(8, activation='relu'))\n",
    "model.add(tf.keras.layers.Dense(1, activation='sigmoid'))\n",
    "\n",
    "model.summary()"
   ]
  },
  {
   "cell_type": "code",
   "execution_count": 10,
   "id": "9a12362c",
   "metadata": {},
   "outputs": [
    {
     "name": "stdout",
     "output_type": "stream",
     "text": [
      "(136182, 41)\n",
      "(136182,)\n"
     ]
    }
   ],
   "source": [
    "# 검증셋 분리\n",
    "\n",
    "# validation set 10000건 분리\n",
    "x_val = x_train[:10000]   \n",
    "y_val = y_train[:10000]\n",
    "\n",
    "# validation set을 제외한 나머지 15000건\n",
    "partial_x_train = x_train[10000:]  \n",
    "partial_y_train = y_train[10000:]\n",
    "\n",
    "print(partial_x_train.shape)\n",
    "print(partial_y_train.shape)"
   ]
  },
  {
   "cell_type": "markdown",
   "id": "3dc73562",
   "metadata": {},
   "source": [
    "## 모델 훈련 개시"
   ]
  },
  {
   "cell_type": "code",
   "execution_count": 11,
   "id": "ee2487fc",
   "metadata": {},
   "outputs": [
    {
     "name": "stdout",
     "output_type": "stream",
     "text": [
      "Epoch 1/10\n",
      "266/266 [==============================] - 6s 6ms/step - loss: 0.4831 - accuracy: 0.7655 - val_loss: 0.3522 - val_accuracy: 0.8472\n",
      "Epoch 2/10\n",
      "266/266 [==============================] - 1s 5ms/step - loss: 0.3282 - accuracy: 0.8601 - val_loss: 0.3385 - val_accuracy: 0.8528\n",
      "Epoch 3/10\n",
      "266/266 [==============================] - 1s 6ms/step - loss: 0.2975 - accuracy: 0.8761 - val_loss: 0.3345 - val_accuracy: 0.8555\n",
      "Epoch 4/10\n",
      "266/266 [==============================] - 1s 5ms/step - loss: 0.2735 - accuracy: 0.8890 - val_loss: 0.3376 - val_accuracy: 0.8540\n",
      "Epoch 5/10\n",
      "266/266 [==============================] - 1s 4ms/step - loss: 0.2483 - accuracy: 0.9018 - val_loss: 0.3466 - val_accuracy: 0.8509\n",
      "Epoch 6/10\n",
      "266/266 [==============================] - 1s 5ms/step - loss: 0.2212 - accuracy: 0.9147 - val_loss: 0.3647 - val_accuracy: 0.8498\n",
      "Epoch 7/10\n",
      "266/266 [==============================] - 2s 6ms/step - loss: 0.1935 - accuracy: 0.9277 - val_loss: 0.3884 - val_accuracy: 0.8448\n",
      "Epoch 8/10\n",
      "266/266 [==============================] - 1s 5ms/step - loss: 0.1664 - accuracy: 0.9413 - val_loss: 0.4218 - val_accuracy: 0.8396\n",
      "Epoch 9/10\n",
      "266/266 [==============================] - 1s 5ms/step - loss: 0.1435 - accuracy: 0.9508 - val_loss: 0.4575 - val_accuracy: 0.8377\n",
      "Epoch 10/10\n",
      "266/266 [==============================] - 1s 5ms/step - loss: 0.1244 - accuracy: 0.9585 - val_loss: 0.4993 - val_accuracy: 0.8350\n"
     ]
    }
   ],
   "source": [
    "# 학습\n",
    "\n",
    "model.compile(optimizer='adam',\n",
    "              loss='binary_crossentropy',\n",
    "              metrics=['accuracy'])\n",
    "              \n",
    "epochs=10  \n",
    "\n",
    "history = model.fit(partial_x_train,\n",
    "                    partial_y_train,\n",
    "                    epochs=epochs,\n",
    "                    batch_size=512,\n",
    "                    validation_data=(x_val, y_val),\n",
    "                    verbose=1)"
   ]
  },
  {
   "cell_type": "code",
   "execution_count": 12,
   "id": "4ca1f2f1",
   "metadata": {},
   "outputs": [
    {
     "name": "stdout",
     "output_type": "stream",
     "text": [
      "1537/1537 - 2s - loss: 0.5036 - accuracy: 0.8321\n",
      "[0.5035508275032043, 0.832129716873169]\n"
     ]
    }
   ],
   "source": [
    "# 평가\n",
    "\n",
    "results = model.evaluate(x_test,  y_test, verbose=2)\n",
    "\n",
    "print(results)"
   ]
  },
  {
   "cell_type": "markdown",
   "id": "f6e740ad",
   "metadata": {},
   "source": [
    "## Loss, Accuracy 그래프 시각화"
   ]
  },
  {
   "cell_type": "code",
   "execution_count": 13,
   "id": "f4552d71",
   "metadata": {},
   "outputs": [
    {
     "name": "stdout",
     "output_type": "stream",
     "text": [
      "dict_keys(['loss', 'accuracy', 'val_loss', 'val_accuracy'])\n"
     ]
    }
   ],
   "source": [
    "history_dict = history.history\n",
    "print(history_dict.keys()) # epoch에 따른 그래프를 그려볼 수 있는 항목들"
   ]
  },
  {
   "cell_type": "code",
   "execution_count": 14,
   "id": "097e5ca5",
   "metadata": {},
   "outputs": [
    {
     "data": {
      "image/png": "[encoded data removed]",
      "text/plain": [
       "<Figure size 432x288 with 1 Axes>"
      ]
     },
     "metadata": {
      "needs_background": "light"
     },
     "output_type": "display_data"
    }
   ],
   "source": [
    "# 학습에따른 loss 확인\n",
    "\n",
    "acc = history_dict['accuracy']\n",
    "val_acc = history_dict['val_accuracy']\n",
    "loss = history_dict['loss']\n",
    "val_loss = history_dict['val_loss']\n",
    "\n",
    "epochs = range(1, len(acc) + 1)\n",
    "\n",
    "# \"bo\"는 \"파란색 점\"입니다\n",
    "plt.plot(epochs, loss, 'bo', label='Training loss')\n",
    "# b는 \"파란 실선\"입니다\n",
    "plt.plot(epochs, val_loss, 'b', label='Validation loss')\n",
    "plt.title('Training and validation loss')\n",
    "plt.xlabel('Epochs')\n",
    "plt.ylabel('Loss')\n",
    "plt.legend()\n",
    "\n",
    "plt.show()"
   ]
  },
  {
   "cell_type": "code",
   "execution_count": 15,
   "id": "77ca77fd",
   "metadata": {},
   "outputs": [
    {
     "data": {
      "image/png": "[encoded data removed]",
      "text/plain": [
       "<Figure size 432x288 with 1 Axes>"
      ]
     },
     "metadata": {
      "needs_background": "light"
     },
     "output_type": "display_data"
    }
   ],
   "source": [
    "# accuracy 확인\n",
    "\n",
    "plt.clf()   # 그림을 초기화합니다\n",
    "\n",
    "plt.plot(epochs, acc, 'bo', label='Training acc')\n",
    "plt.plot(epochs, val_acc, 'b', label='Validation acc')\n",
    "plt.title('Training and validation accuracy')\n",
    "plt.xlabel('Epochs')\n",
    "plt.ylabel('Accuracy')\n",
    "plt.legend()\n",
    "\n",
    "plt.show()"
   ]
  },
  {
   "cell_type": "markdown",
   "id": "8c4ca63c",
   "metadata": {},
   "source": [
    "## 학습된 Embedding 레이어 분석"
   ]
  },
  {
   "cell_type": "code",
   "execution_count": 16,
   "id": "ab5d81c7",
   "metadata": {},
   "outputs": [
    {
     "name": "stdout",
     "output_type": "stream",
     "text": [
      "(10000, 16)\n"
     ]
    }
   ],
   "source": [
    "embedding_layer = model.layers[0]\n",
    "weights = embedding_layer.get_weights()[0]\n",
    "print(weights.shape)    # shape: (vocab_size, embedding_dim)"
   ]
  },
  {
   "cell_type": "code",
   "execution_count": 17,
   "id": "4445a39c",
   "metadata": {},
   "outputs": [],
   "source": [
    "# 학습한 Embedding 파라미터를 파일에 써서 저장 \n",
    "word2vec_file_path = os.getenv('HOME')+'/aiffel/senti/data/word2vec.txt'\n",
    "f = open(word2vec_file_path, 'w')\n",
    "f.write('{} {}\\n'.format(vocab_size-4, word_vector_dim))  # 벡터사이즈\n",
    "\n",
    "# 단어 개수(에서 특수문자 4개는 제외하고)만큼의 워드 벡터를 파일에 기록 \n",
    "vectors = model.get_weights()[0]\n",
    "for i in range(4,vocab_size):\n",
    "    f.write('{} {}\\n'.format(index_to_word[i], ' '.join(map(str, list(vectors[i, :])))))\n",
    "f.close()"
   ]
  },
  {
   "cell_type": "code",
   "execution_count": 24,
   "id": "a84dbd50",
   "metadata": {},
   "outputs": [
    {
     "data": {
      "text/plain": [
       "array([ 0.0260437 ,  0.00894753,  0.01229104, -0.00955382, -0.06974939,\n",
       "        0.06332591,  0.03929665, -0.00683178, -0.05116075, -0.12180469,\n",
       "        0.02501881, -0.01082864,  0.04260695,  0.02465277,  0.03091166,\n",
       "        0.02242989], dtype=float32)"
      ]
     },
     "execution_count": 24,
     "metadata": {},
     "output_type": "execute_result"
    }
   ],
   "source": [
    "from gensim.models.keyedvectors import Word2VecKeyedVectors\n",
    "\n",
    "word_vectors = Word2VecKeyedVectors.load_word2vec_format(word2vec_file_path, binary=False)\n",
    "vector = word_vectors['공포']\n",
    "vector"
   ]
  },
  {
   "cell_type": "code",
   "execution_count": 25,
   "id": "a13ef5bc",
   "metadata": {},
   "outputs": [
    {
     "data": {
      "text/plain": [
       "[('줄리아', 0.7759808301925659),\n",
       " ('수백', 0.7718720436096191),\n",
       " ('총체', 0.7433919906616211),\n",
       " ('종합', 0.727118194103241),\n",
       " ('등장인물', 0.7212510704994202),\n",
       " ('이범수', 0.7169958353042603),\n",
       " ('의도', 0.7085838317871094),\n",
       " ('복제', 0.7065367102622986),\n",
       " ('뱀파이어', 0.7048137187957764),\n",
       " ('발하', 0.6921102404594421)]"
      ]
     },
     "execution_count": 25,
     "metadata": {},
     "output_type": "execute_result"
    }
   ],
   "source": [
    "# 단어 유사도 확인\n",
    "\n",
    "word_vectors.similar_by_word(\"공포\")"
   ]
  },
  {
   "cell_type": "code",
   "execution_count": 30,
   "id": "bc8ac628",
   "metadata": {},
   "outputs": [
    {
     "data": {
      "text/plain": [
       "array([ 0.22265625,  0.08789062,  0.12597656, -0.10546875, -0.30078125,\n",
       "        0.0546875 ,  0.05102539, -0.11474609,  0.15234375,  0.32421875,\n",
       "       -0.11230469, -0.17089844, -0.02233887,  0.06445312, -0.10742188,\n",
       "       -0.01574707, -0.10302734,  0.17089844,  0.07910156, -0.0534668 ,\n",
       "        0.15429688,  0.24414062,  0.38476562,  0.07958984,  0.0378418 ,\n",
       "        0.02893066,  0.00909424, -0.07373047,  0.41796875, -0.23535156,\n",
       "        0.26367188,  0.06933594, -0.18652344,  0.02001953,  0.26953125,\n",
       "       -0.20019531,  0.18652344,  0.04443359, -0.16308594,  0.22753906,\n",
       "        0.1328125 , -0.10839844,  0.22851562, -0.27148438, -0.31445312,\n",
       "       -0.21582031, -0.34960938, -0.06933594, -0.35546875, -0.01916504,\n",
       "       -0.15234375,  0.05126953, -0.14550781,  0.04980469,  0.05371094,\n",
       "        0.22460938, -0.08349609, -0.22558594, -0.01416016, -0.12695312,\n",
       "       -0.01953125,  0.07714844, -0.265625  ,  0.11621094, -0.21582031,\n",
       "       -0.03515625,  0.02172852, -0.08398438, -0.15136719, -0.11621094,\n",
       "       -0.14160156, -0.11132812,  0.13769531,  0.02282715, -0.44726562,\n",
       "        0.20019531,  0.11035156,  0.18359375,  0.10742188,  0.08837891,\n",
       "        0.07275391,  0.33789062,  0.01196289,  0.19726562, -0.01184082,\n",
       "       -0.08398438, -0.26171875,  0.08105469,  0.00799561, -0.09765625,\n",
       "       -0.12207031,  0.27734375, -0.28515625, -0.11669922, -0.18847656,\n",
       "        0.17382812,  0.11132812, -0.19726562, -0.07617188, -0.05541992,\n",
       "        0.0534668 , -0.02954102, -0.08691406,  0.01080322,  0.171875  ,\n",
       "       -0.03881836,  0.2421875 , -0.14355469,  0.24902344, -0.08642578,\n",
       "       -0.14160156, -0.33007812,  0.23242188, -0.06347656, -0.10107422,\n",
       "       -0.22753906,  0.21484375, -0.33984375,  0.19335938,  0.10107422,\n",
       "       -0.11181641,  0.18261719, -0.15039062, -0.171875  , -0.05639648,\n",
       "       -0.20605469, -0.19433594, -0.08251953,  0.18261719, -0.17871094,\n",
       "       -0.13085938,  0.09960938, -0.21191406,  0.22753906,  0.015625  ,\n",
       "       -0.05786133, -0.08007812,  0.18164062, -0.15234375,  0.04638672,\n",
       "        0.07910156,  0.32421875,  0.12451172, -0.10351562, -0.08300781,\n",
       "       -0.0402832 , -0.1640625 ,  0.05786133,  0.03588867, -0.2734375 ,\n",
       "        0.16601562,  0.265625  ,  0.00588989,  0.10644531, -0.10400391,\n",
       "       -0.15136719, -0.21972656, -0.09814453,  0.0625    ,  0.10351562,\n",
       "       -0.15234375,  0.16113281,  0.1875    ,  0.01855469, -0.0625    ,\n",
       "       -0.11523438,  0.078125  , -0.20800781,  0.21875   ,  0.08642578,\n",
       "       -0.12695312, -0.04125977, -0.01293945, -0.03222656, -0.11083984,\n",
       "       -0.10400391, -0.1796875 ,  0.22167969, -0.05810547, -0.07958984,\n",
       "        0.17382812, -0.08251953,  0.0090332 ,  0.09179688, -0.02270508,\n",
       "        0.01159668, -0.25976562,  0.29101562, -0.06030273, -0.10644531,\n",
       "        0.11572266, -0.17480469,  0.05175781,  0.06982422, -0.02685547,\n",
       "       -0.06640625,  0.03173828, -0.00717163, -0.19042969,  0.33398438,\n",
       "       -0.17675781,  0.03540039, -0.03100586, -0.23339844,  0.12695312,\n",
       "       -0.08105469, -0.02075195,  0.1875    , -0.03881836, -0.12597656,\n",
       "        0.0378418 ,  0.07226562,  0.33398438, -0.09863281, -0.11230469,\n",
       "       -0.04101562,  0.08154297,  0.09667969, -0.11669922, -0.09716797,\n",
       "        0.10693359,  0.07568359, -0.05761719,  0.08740234,  0.25976562,\n",
       "       -0.22167969,  0.23339844,  0.10449219,  0.03491211, -0.16992188,\n",
       "        0.01403809,  0.03344727, -0.06738281,  0.20410156,  0.07177734,\n",
       "       -0.15820312,  0.17285156, -0.2890625 ,  0.06030273, -0.03076172,\n",
       "        0.10839844, -0.03881836, -0.04296875, -0.06176758, -0.18945312,\n",
       "        0.06640625,  0.03393555,  0.04077148,  0.06347656,  0.15332031,\n",
       "        0.12890625,  0.01757812,  0.30078125,  0.07666016, -0.0703125 ,\n",
       "       -0.13574219,  0.08154297, -0.15625   , -0.00283813, -0.04223633,\n",
       "       -0.15820312, -0.02734375, -0.14746094,  0.23046875, -0.06933594,\n",
       "        0.01049805,  0.03393555, -0.01696777,  0.05053711,  0.11181641,\n",
       "       -0.06225586,  0.28125   ,  0.23535156,  0.10693359, -0.11474609,\n",
       "        0.046875  , -0.11914062,  0.00558472,  0.20898438,  0.13964844,\n",
       "        0.20117188, -0.0625    , -0.12304688,  0.04394531, -0.11132812,\n",
       "       -0.00585938, -0.08447266,  0.09814453,  0.08740234, -0.21386719,\n",
       "        0.21191406, -0.203125  , -0.02282715, -0.04077148, -0.15332031,\n",
       "        0.1328125 , -0.13378906,  0.08886719,  0.0859375 ,  0.04248047],\n",
       "      dtype=float32)"
      ]
     },
     "execution_count": 30,
     "metadata": {},
     "output_type": "execute_result"
    }
   ],
   "source": [
    "from gensim.models import KeyedVectors\n",
    "\n",
    "word2vec_path = os.getenv('HOME')+'/data/GoogleNews-vectors-negative300.bin.gz'\n",
    "word2vec = KeyedVectors.load_word2vec_format(word2vec_path, binary=True, limit=1000000)\n",
    "vector = word2vec['angry']\n",
    "vector     # 무려 300dim의 워드 벡터"
   ]
  },
  {
   "cell_type": "code",
   "execution_count": 31,
   "id": "7873c941",
   "metadata": {},
   "outputs": [
    {
     "data": {
      "text/plain": [
       "[('irate', 0.8138925433158875),\n",
       " ('enraged', 0.7705066800117493),\n",
       " ('indignant', 0.7013434171676636),\n",
       " ('incensed', 0.6881307363510132),\n",
       " ('annoyed', 0.6847162246704102),\n",
       " ('agitated', 0.6821000576019287),\n",
       " ('frustrated', 0.6720573306083679),\n",
       " ('furious', 0.6702253222465515),\n",
       " ('unhappy', 0.6646261811256409),\n",
       " ('outraged', 0.6598437428474426)]"
      ]
     },
     "execution_count": 31,
     "metadata": {},
     "output_type": "execute_result"
    }
   ],
   "source": [
    "word2vec.similar_by_word(\"angry\")"
   ]
  },
  {
   "cell_type": "markdown",
   "id": "0f907e28",
   "metadata": {},
   "source": [
    "## 한국어 Word2Vec 임베딩 활용하여 성능 개선"
   ]
  },
  {
   "cell_type": "code",
   "execution_count": 32,
   "id": "2337cd95",
   "metadata": {},
   "outputs": [],
   "source": [
    "vocab_size = 10000    # 어휘 사전의 크기(10,000개의 단어)\n",
    "word_vector_dim = 300  # 워드 벡터의 차원수\n",
    "embedding_matrix = np.random.rand(vocab_size, word_vector_dim)\n",
    "\n",
    "# embedding_matrix에 Word2Vec 워드 벡터를 단어 하나씩마다 차례차례 카피한다.\n",
    "for i in range(4,vocab_size):\n",
    "    if index_to_word[i] in word2vec:\n",
    "        embedding_matrix[i] = word2vec[index_to_word[i]]"
   ]
  },
  {
   "cell_type": "code",
   "execution_count": 33,
   "id": "9140f478",
   "metadata": {},
   "outputs": [
    {
     "name": "stdout",
     "output_type": "stream",
     "text": [
      "Model: \"sequential_1\"\n",
      "_________________________________________________________________\n",
      "Layer (type)                 Output Shape              Param #   \n",
      "=================================================================\n",
      "embedding_1 (Embedding)      (None, 41, 300)           3000000   \n",
      "_________________________________________________________________\n",
      "conv1d_2 (Conv1D)            (None, 35, 16)            33616     \n",
      "_________________________________________________________________\n",
      "max_pooling1d_1 (MaxPooling1 (None, 7, 16)             0         \n",
      "_________________________________________________________________\n",
      "conv1d_3 (Conv1D)            (None, 1, 16)             1808      \n",
      "_________________________________________________________________\n",
      "global_max_pooling1d_1 (Glob (None, 16)                0         \n",
      "_________________________________________________________________\n",
      "dense_2 (Dense)              (None, 8)                 136       \n",
      "_________________________________________________________________\n",
      "dense_3 (Dense)              (None, 1)                 9         \n",
      "=================================================================\n",
      "Total params: 3,035,569\n",
      "Trainable params: 3,035,569\n",
      "Non-trainable params: 0\n",
      "_________________________________________________________________\n"
     ]
    }
   ],
   "source": [
    "from tensorflow.keras.initializers import Constant\n",
    "\n",
    "vocab_size = 10000    # 어휘 사전의 크기(10,000개의 단어)\n",
    "word_vector_dim = 300  # 워드 벡터의 차원 수 \n",
    "\n",
    "# 모델 구성\n",
    "model = tf.keras.Sequential()\n",
    "model.add(tf.keras.layers.Embedding(vocab_size, \n",
    "                                 word_vector_dim, \n",
    "                                 embeddings_initializer=Constant(embedding_matrix),  # 카피한 임베딩을 여기서 활용\n",
    "                                 input_length=maxlen, \n",
    "                                 trainable=True))   # trainable을 True로 주면 Fine-tuning\n",
    "model.add(tf.keras.layers.Conv1D(16, 7, activation='relu'))\n",
    "model.add(tf.keras.layers.MaxPooling1D(5))\n",
    "model.add(tf.keras.layers.Conv1D(16, 7, activation='relu'))\n",
    "model.add(tf.keras.layers.GlobalMaxPooling1D())\n",
    "model.add(tf.keras.layers.Dense(8, activation='relu'))\n",
    "model.add(tf.keras.layers.Dense(1, activation='sigmoid')) \n",
    "\n",
    "model.summary()"
   ]
  },
  {
   "cell_type": "code",
   "execution_count": 34,
   "id": "4f520f8b",
   "metadata": {},
   "outputs": [
    {
     "name": "stdout",
     "output_type": "stream",
     "text": [
      "Epoch 1/15\n",
      "266/266 [==============================] - 4s 10ms/step - loss: 0.5953 - accuracy: 0.6557 - val_loss: 0.4629 - val_accuracy: 0.7767\n",
      "Epoch 2/15\n",
      "266/266 [==============================] - 2s 9ms/step - loss: 0.3775 - accuracy: 0.8348 - val_loss: 0.3686 - val_accuracy: 0.8368\n",
      "Epoch 3/15\n",
      "266/266 [==============================] - 2s 9ms/step - loss: 0.3304 - accuracy: 0.8600 - val_loss: 0.3586 - val_accuracy: 0.8426\n",
      "Epoch 4/15\n",
      "266/266 [==============================] - 2s 9ms/step - loss: 0.3040 - accuracy: 0.8726 - val_loss: 0.3478 - val_accuracy: 0.8494\n",
      "Epoch 5/15\n",
      "266/266 [==============================] - 2s 8ms/step - loss: 0.2851 - accuracy: 0.8830 - val_loss: 0.3529 - val_accuracy: 0.8478\n",
      "Epoch 6/15\n",
      "266/266 [==============================] - 2s 9ms/step - loss: 0.2657 - accuracy: 0.8926 - val_loss: 0.3554 - val_accuracy: 0.8505\n",
      "Epoch 7/15\n",
      "266/266 [==============================] - 2s 9ms/step - loss: 0.2491 - accuracy: 0.9009 - val_loss: 0.3597 - val_accuracy: 0.8501\n",
      "Epoch 8/15\n",
      "266/266 [==============================] - 2s 8ms/step - loss: 0.2306 - accuracy: 0.9105 - val_loss: 0.3744 - val_accuracy: 0.8472\n",
      "Epoch 9/15\n",
      "266/266 [==============================] - 2s 9ms/step - loss: 0.2118 - accuracy: 0.9191 - val_loss: 0.3859 - val_accuracy: 0.8453\n",
      "Epoch 10/15\n",
      "266/266 [==============================] - 2s 9ms/step - loss: 0.1904 - accuracy: 0.9303 - val_loss: 0.4197 - val_accuracy: 0.8370\n",
      "Epoch 11/15\n",
      "266/266 [==============================] - 2s 8ms/step - loss: 0.1728 - accuracy: 0.9376 - val_loss: 0.4730 - val_accuracy: 0.8222\n",
      "Epoch 12/15\n",
      "266/266 [==============================] - 2s 9ms/step - loss: 0.1588 - accuracy: 0.9439 - val_loss: 0.4592 - val_accuracy: 0.8371\n",
      "Epoch 13/15\n",
      "266/266 [==============================] - 2s 9ms/step - loss: 0.1423 - accuracy: 0.9509 - val_loss: 0.4655 - val_accuracy: 0.8374\n",
      "Epoch 14/15\n",
      "266/266 [==============================] - 2s 8ms/step - loss: 0.1276 - accuracy: 0.9569 - val_loss: 0.5183 - val_accuracy: 0.8348\n",
      "Epoch 15/15\n",
      "266/266 [==============================] - 2s 9ms/step - loss: 0.1156 - accuracy: 0.9614 - val_loss: 0.5399 - val_accuracy: 0.8340\n"
     ]
    }
   ],
   "source": [
    "# 학습의 진행\n",
    "model.compile(optimizer='adam',\n",
    "              loss='binary_crossentropy',\n",
    "              metrics=['accuracy'])\n",
    "              \n",
    "epochs=15  \n",
    "\n",
    "history = model.fit(partial_x_train,\n",
    "                    partial_y_train,\n",
    "                    epochs=epochs,\n",
    "                    batch_size=512,\n",
    "                    validation_data=(x_val, y_val),\n",
    "                    verbose=1)"
   ]
  },
  {
   "cell_type": "code",
   "execution_count": 35,
   "id": "89289cdf",
   "metadata": {},
   "outputs": [
    {
     "name": "stdout",
     "output_type": "stream",
     "text": [
      "1537/1537 - 3s - loss: 0.5782 - accuracy: 0.8210\n",
      "[0.5782423615455627, 0.8210427761077881]\n"
     ]
    }
   ],
   "source": [
    "results = model.evaluate(x_test,  y_test, verbose=2)\n",
    "\n",
    "print(results)"
   ]
  }
 ],
 "metadata": {
  "kernelspec": {
   "display_name": "Python 3 (ipykernel)",
   "language": "python",
   "name": "python3"
  },
  "language_info": {
   "codemirror_mode": {
    "name": "ipython",
    "version": 3
   },
   "file_extension": ".py",
   "mimetype": "text/x-python",
   "name": "python",
   "nbconvert_exporter": "python",
   "pygments_lexer": "ipython3",
   "version": "3.9.7"
  }
 },
 "nbformat": 4,
 "nbformat_minor": 5
}
