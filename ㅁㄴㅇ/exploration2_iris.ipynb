{
  "nbformat": 4,
  "nbformat_minor": 0,
  "metadata": {
    "colab": {
      "name": "exploration2-iris.ipynb",
      "provenance": []
    },
    "kernelspec": {
      "name": "python3",
      "display_name": "Python 3"
    },
    "language_info": {
      "name": "python"
    }
  },
  "cells": [
    {
      "cell_type": "markdown",
      "source": [
        "# 1. 모듈 import"
      ],
      "metadata": {
        "id": "j3UGDm9iiqJB"
      }
    },
    {
      "cell_type": "code",
      "execution_count": 97,
      "metadata": {
        "id": "Fgf1V0uzQ34X"
      },
      "outputs": [],
      "source": [
        "# 모듈 import\n",
        "from sklearn.datasets import load_digits\n",
        "from sklearn.model_selection import train_test_split\n",
        "from sklearn.metrics import classification_report\n",
        "\n",
        "import pandas as pd"
      ]
    },
    {
      "cell_type": "markdown",
      "source": [
        "# 2. 데이터 준비"
      ],
      "metadata": {
        "id": "xDmqq6HeivNe"
      }
    },
    {
      "cell_type": "code",
      "source": [
        "# 손글씨 데이터 가져오기\n",
        "digits = load_digits()\n",
        "digits.keys()\n",
        "\n",
        "# 데이터 형상확인\n",
        "digits_data = digits.data\n",
        "digits_data.shape # = (1797, 64)\n",
        "# 1797개의 데이터와 64개의 숫자로 이루어진것을 확인\n",
        "\n",
        "# 1번째의 데이터확인\n",
        "digits_data[0]"
      ],
      "metadata": {
        "colab": {
          "base_uri": "https://localhost:8080/"
        },
        "id": "0Udjw-mTiu4w",
        "outputId": "3e03ca57-6c71-4439-fcc5-6940c8097cc7"
      },
      "execution_count": 98,
      "outputs": [
        {
          "output_type": "execute_result",
          "data": {
            "text/plain": [
              "array([ 0.,  0.,  5., 13.,  9.,  1.,  0.,  0.,  0.,  0., 13., 15., 10.,\n",
              "       15.,  5.,  0.,  0.,  3., 15.,  2.,  0., 11.,  8.,  0.,  0.,  4.,\n",
              "       12.,  0.,  0.,  8.,  8.,  0.,  0.,  5.,  8.,  0.,  0.,  9.,  8.,\n",
              "        0.,  0.,  4., 11.,  0.,  1., 12.,  7.,  0.,  0.,  2., 14.,  5.,\n",
              "       10., 12.,  0.,  0.,  0.,  0.,  6., 13., 10.,  0.,  0.,  0.])"
            ]
          },
          "metadata": {},
          "execution_count": 98
        }
      ]
    },
    {
      "cell_type": "markdown",
      "source": [
        "# 3. 데이터 이해하기"
      ],
      "metadata": {
        "id": "KmFJJTizkrN9"
      }
    },
    {
      "cell_type": "code",
      "source": [
        "# 3-1 Feature data 지정\n",
        "digits_df = pd.DataFrame(data=digits_data, columns=digits.feature_names)\n",
        "digits_df\n",
        "\n",
        "digits_df[\"label\"] = digits.target\n",
        "digits_df\n",
        "\n",
        "# 3-2 Label data 지정\n",
        "digits_label = digits.target\n",
        "print(digits_label.shape)\n",
        "digits_label\n",
        "\n",
        "# 3-3 Target names 출력 = array([0, 1, 2, 3, 4, 5, 6, 7, 8, 9]) 0부터 9까지의 숫자 이미지\n",
        "digits.target_names\n",
        "\n",
        "# 3-4 데이터 describe\n",
        "# print(digits.DESCR)\n"
      ],
      "metadata": {
        "colab": {
          "base_uri": "https://localhost:8080/"
        },
        "id": "2qYQp4_6kuwn",
        "outputId": "1d028e53-e335-41ff-8700-9f41a70ef917"
      },
      "execution_count": 99,
      "outputs": [
        {
          "output_type": "stream",
          "name": "stdout",
          "text": [
            "(1797,)\n"
          ]
        },
        {
          "output_type": "execute_result",
          "data": {
            "text/plain": [
              "array([0, 1, 2, 3, 4, 5, 6, 7, 8, 9])"
            ]
          },
          "metadata": {},
          "execution_count": 99
        }
      ]
    },
    {
      "cell_type": "markdown",
      "source": [
        "# 4. 데이터 분리하기"
      ],
      "metadata": {
        "id": "fTjwR8qL2kiH"
      }
    },
    {
      "cell_type": "code",
      "source": [
        "X_train, X_test, y_train, y_test = train_test_split(digits_data, \n",
        "                                                    digits_label, \n",
        "                                                    test_size=0.2,  # test 셋의 비율 \n",
        "                                                    random_state=7) # 데이터분리시 랜덤적용\n",
        "\n",
        "print('X_train 개수: ', len(X_train),', X_test 개수: ', len(X_test))\n",
        "print(X_train.shape, y_train.shape)\n",
        "print(X_test.shape, y_test.shape)\n"
      ],
      "metadata": {
        "colab": {
          "base_uri": "https://localhost:8080/"
        },
        "id": "QY0-DCSh2kn3",
        "outputId": "89de6935-acc1-414a-c262-a7c201a96b4d"
      },
      "execution_count": 100,
      "outputs": [
        {
          "output_type": "stream",
          "name": "stdout",
          "text": [
            "X_train 개수:  1437 , X_test 개수:  360\n",
            "(1437, 64) (1437,)\n",
            "(360, 64) (360,)\n"
          ]
        }
      ]
    },
    {
      "cell_type": "markdown",
      "source": [
        "# 5. 다양한 모델로 학습시키기\n",
        "### Decision Tree 사용해 보기\n",
        "### Random Forest 사용해 보기\n",
        "### SVM 사용해 보기\n",
        "### SGD Classifier 사용해 보기\n",
        "### Logistic Regression 사용해 보기"
      ],
      "metadata": {
        "id": "55iUMWta8vRl"
      }
    },
    {
      "cell_type": "code",
      "source": [
        "# Decision Tree\n",
        "from sklearn.tree import DecisionTreeClassifier\n",
        "from sklearn.metrics import accuracy_score # 정확도 모듈\n",
        "\n",
        "decision_tree = DecisionTreeClassifier(random_state=32)\n",
        "decision_tree.fit(X_train, y_train)\n",
        "y_pred = decision_tree.predict(X_test)\n",
        "\n",
        "print(classification_report(y_test, y_pred))"
      ],
      "metadata": {
        "colab": {
          "base_uri": "https://localhost:8080/"
        },
        "id": "teVYlAYD8vV4",
        "outputId": "3fa8c441-a33b-4f1b-dc7f-e77ed56d455d"
      },
      "execution_count": 107,
      "outputs": [
        {
          "output_type": "stream",
          "name": "stdout",
          "text": [
            "              precision    recall  f1-score   support\n",
            "\n",
            "           0       0.91      0.94      0.92        32\n",
            "           1       0.93      0.72      0.81        36\n",
            "           2       0.96      0.73      0.83        30\n",
            "           3       0.74      0.83      0.78        41\n",
            "           4       0.80      0.88      0.84        32\n",
            "           5       0.90      0.93      0.91        46\n",
            "           6       0.93      0.88      0.90        32\n",
            "           7       0.90      0.93      0.91        40\n",
            "           8       0.77      0.81      0.79        42\n",
            "           9       0.69      0.76      0.72        29\n",
            "\n",
            "    accuracy                           0.84       360\n",
            "   macro avg       0.85      0.84      0.84       360\n",
            "weighted avg       0.85      0.84      0.84       360\n",
            "\n"
          ]
        }
      ]
    },
    {
      "cell_type": "code",
      "source": [
        "# Random Forest\n",
        "from sklearn.ensemble import RandomForestClassifier\n",
        "\n",
        "X_train, X_test, y_train, y_test = train_test_split(digits_data, \n",
        "                                                    digits_label, \n",
        "                                                    test_size=0.2, \n",
        "                                                    random_state=21)\n",
        "\n",
        "random_forest = RandomForestClassifier(random_state=32)\n",
        "random_forest.fit(X_train, y_train)\n",
        "y_pred = random_forest.predict(X_test)\n",
        "\n",
        "print(classification_report(y_test, y_pred))"
      ],
      "metadata": {
        "colab": {
          "base_uri": "https://localhost:8080/"
        },
        "id": "OvNvWwB3CFUb",
        "outputId": "60cb40a3-8018-453a-c130-1f7fc2c24cc6"
      },
      "execution_count": 102,
      "outputs": [
        {
          "output_type": "stream",
          "name": "stdout",
          "text": [
            "              precision    recall  f1-score   support\n",
            "\n",
            "           0       0.97      0.94      0.95        32\n",
            "           1       0.97      1.00      0.99        36\n",
            "           2       1.00      1.00      1.00        30\n",
            "           3       0.98      0.98      0.98        41\n",
            "           4       0.94      0.97      0.95        32\n",
            "           5       1.00      0.98      0.99        46\n",
            "           6       1.00      0.97      0.98        32\n",
            "           7       0.98      1.00      0.99        40\n",
            "           8       0.93      0.98      0.95        42\n",
            "           9       1.00      0.93      0.96        29\n",
            "\n",
            "    accuracy                           0.97       360\n",
            "   macro avg       0.98      0.97      0.97       360\n",
            "weighted avg       0.98      0.97      0.98       360\n",
            "\n"
          ]
        }
      ]
    },
    {
      "cell_type": "code",
      "source": [
        "# SVM\n",
        "from sklearn import svm\n",
        "svm_model = svm.SVC()\n",
        "\n",
        "print(svm_model._estimator_type)\n",
        "\n",
        "svm_model.fit(X_train, y_train)\n",
        "y_pred = svm_model.predict(X_test)\n",
        "\n",
        "print(classification_report(y_test, y_pred))"
      ],
      "metadata": {
        "colab": {
          "base_uri": "https://localhost:8080/"
        },
        "id": "aywfSX5BDazP",
        "outputId": "7314e26d-99bb-4af8-dc20-1ee3bf477d7b"
      },
      "execution_count": 94,
      "outputs": [
        {
          "output_type": "stream",
          "name": "stdout",
          "text": [
            "classifier\n",
            "              precision    recall  f1-score   support\n",
            "\n",
            "           0       1.00      0.97      0.98        32\n",
            "           1       0.95      1.00      0.97        36\n",
            "           2       1.00      1.00      1.00        30\n",
            "           3       1.00      1.00      1.00        41\n",
            "           4       0.97      1.00      0.98        32\n",
            "           5       0.98      1.00      0.99        46\n",
            "           6       1.00      1.00      1.00        32\n",
            "           7       1.00      1.00      1.00        40\n",
            "           8       0.98      0.95      0.96        42\n",
            "           9       1.00      0.93      0.96        29\n",
            "\n",
            "    accuracy                           0.99       360\n",
            "   macro avg       0.99      0.99      0.99       360\n",
            "weighted avg       0.99      0.99      0.99       360\n",
            "\n"
          ]
        }
      ]
    },
    {
      "cell_type": "code",
      "source": [
        "# SGD\n",
        "from sklearn.linear_model import SGDClassifier\n",
        "sgd_model = SGDClassifier()\n",
        "\n",
        "print(sgd_model._estimator_type)\n",
        "\n",
        "sgd_model.fit(X_train, y_train)\n",
        "y_pred = sgd_model.predict(X_test)\n",
        "\n",
        "print(classification_report(y_test, y_pred))"
      ],
      "metadata": {
        "colab": {
          "base_uri": "https://localhost:8080/"
        },
        "id": "DgeF6veOD5V3",
        "outputId": "d4bb0dec-b4e2-4977-d438-277c248bddb4"
      },
      "execution_count": 95,
      "outputs": [
        {
          "output_type": "stream",
          "name": "stdout",
          "text": [
            "classifier\n",
            "              precision    recall  f1-score   support\n",
            "\n",
            "           0       1.00      1.00      1.00        32\n",
            "           1       0.87      0.92      0.89        36\n",
            "           2       0.97      0.93      0.95        30\n",
            "           3       0.77      1.00      0.87        41\n",
            "           4       1.00      0.94      0.97        32\n",
            "           5       0.98      0.87      0.92        46\n",
            "           6       0.97      1.00      0.98        32\n",
            "           7       0.98      1.00      0.99        40\n",
            "           8       0.95      0.90      0.93        42\n",
            "           9       1.00      0.79      0.88        29\n",
            "\n",
            "    accuracy                           0.94       360\n",
            "   macro avg       0.95      0.94      0.94       360\n",
            "weighted avg       0.94      0.94      0.94       360\n",
            "\n"
          ]
        }
      ]
    },
    {
      "cell_type": "code",
      "source": [
        "# Logistic Regression\n",
        "from sklearn.linear_model import LogisticRegression\n",
        "logistic_model = LogisticRegression()\n",
        "\n",
        "print(logistic_model._estimator_type)\n",
        "logistic_model.fit(X_train, y_train)\n",
        "y_pred = logistic_model.predict(X_test)\n",
        "\n",
        "print(classification_report(y_test, y_pred))"
      ],
      "metadata": {
        "colab": {
          "base_uri": "https://localhost:8080/"
        },
        "id": "oTVN1DMtGSUH",
        "outputId": "1b350f2b-b3d2-467f-ab2c-4022b7039fd2"
      },
      "execution_count": 96,
      "outputs": [
        {
          "output_type": "stream",
          "name": "stdout",
          "text": [
            "classifier\n",
            "              precision    recall  f1-score   support\n",
            "\n",
            "           0       1.00      1.00      1.00        32\n",
            "           1       0.95      0.97      0.96        36\n",
            "           2       1.00      1.00      1.00        30\n",
            "           3       0.98      1.00      0.99        41\n",
            "           4       0.94      0.97      0.95        32\n",
            "           5       0.98      0.98      0.98        46\n",
            "           6       1.00      1.00      1.00        32\n",
            "           7       0.97      0.97      0.97        40\n",
            "           8       1.00      0.95      0.98        42\n",
            "           9       0.96      0.93      0.95        29\n",
            "\n",
            "    accuracy                           0.98       360\n",
            "   macro avg       0.98      0.98      0.98       360\n",
            "weighted avg       0.98      0.98      0.98       360\n",
            "\n"
          ]
        },
        {
          "output_type": "stream",
          "name": "stderr",
          "text": [
            "/usr/local/lib/python3.7/dist-packages/sklearn/linear_model/_logistic.py:818: ConvergenceWarning: lbfgs failed to converge (status=1):\n",
            "STOP: TOTAL NO. of ITERATIONS REACHED LIMIT.\n",
            "\n",
            "Increase the number of iterations (max_iter) or scale the data as shown in:\n",
            "    https://scikit-learn.org/stable/modules/preprocessing.html\n",
            "Please also refer to the documentation for alternative solver options:\n",
            "    https://scikit-learn.org/stable/modules/linear_model.html#logistic-regression\n",
            "  extra_warning_msg=_LOGISTIC_SOLVER_CONVERGENCE_MSG,\n"
          ]
        }
      ]
    }
  ]
}
